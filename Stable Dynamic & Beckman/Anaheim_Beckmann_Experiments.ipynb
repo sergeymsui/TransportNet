{
 "cells": [
  {
   "cell_type": "code",
   "execution_count": 1,
   "metadata": {},
   "outputs": [],
   "source": [
    "import pandas as pd\n",
    "import numpy as np\n",
    "import data_handler as dh\n",
    "import model as md\n",
    "import time\n",
    "import matplotlib.pyplot as plt\n",
    "from matplotlib import rc\n",
    "import pickle"
   ]
  },
  {
   "cell_type": "code",
   "execution_count": 2,
   "metadata": {},
   "outputs": [
    {
     "data": {
      "text/plain": [
       "<module 'model' from '/home/user/git/TransportNet/Stable Dynamic & Beckman/model.py'>"
      ]
     },
     "execution_count": 2,
     "metadata": {},
     "output_type": "execute_result"
    }
   ],
   "source": [
    "import importlib\n",
    "importlib.reload(dh)\n",
    "importlib.reload(md)"
   ]
  },
  {
   "cell_type": "code",
   "execution_count": 3,
   "metadata": {},
   "outputs": [
    {
     "data": {
      "text/plain": [
       "'0.59.1'"
      ]
     },
     "execution_count": 3,
     "metadata": {},
     "output_type": "execute_result"
    }
   ],
   "source": [
    "import numba\n",
    "numba.__version__"
   ]
  },
  {
   "cell_type": "code",
   "execution_count": 4,
   "metadata": {},
   "outputs": [
    {
     "name": "stdout",
     "output_type": "stream",
     "text": [
      "/home/user/miniconda3/envs/venv/bin/python\n",
      "3.12.3 | packaged by conda-forge | (main, Apr 15 2024, 18:38:13) [GCC 12.3.0]\n",
      "sys.version_info(major=3, minor=12, micro=3, releaselevel='final', serial=0)\n",
      "python 3.12.3\n",
      "numpy 1.26.4\n",
      "pandas 2.2.2\n",
      "graph_tool 2.65 (commit bd697989, )\n"
     ]
    }
   ],
   "source": [
    "import sys\n",
    "print(sys.executable)\n",
    "print(sys.version)\n",
    "print(sys.version_info)\n",
    "from platform import python_version\n",
    "print('python', python_version())\n",
    "print('numpy', np.__version__)\n",
    "print('pandas', pd.__version__)\n",
    "import graph_tool\n",
    "print('graph_tool', graph_tool.__version__)"
   ]
  },
  {
   "cell_type": "markdown",
   "metadata": {},
   "source": [
    "# Beckmann model\n",
    "\n",
    "parameter $\\mu = 0.25$"
   ]
  },
  {
   "cell_type": "code",
   "execution_count": 7,
   "metadata": {},
   "outputs": [],
   "source": [
    "beckmann_save = 'beckmann_results/'\n",
    "cities_data = 'cities_data/'"
   ]
  },
  {
   "cell_type": "code",
   "execution_count": 8,
   "metadata": {},
   "outputs": [
    {
     "data": {
      "text/html": [
       "<div>\n",
       "<style scoped>\n",
       "    .dataframe tbody tr th:only-of-type {\n",
       "        vertical-align: middle;\n",
       "    }\n",
       "\n",
       "    .dataframe tbody tr th {\n",
       "        vertical-align: top;\n",
       "    }\n",
       "\n",
       "    .dataframe thead th {\n",
       "        text-align: right;\n",
       "    }\n",
       "</style>\n",
       "<table border=\"1\" class=\"dataframe\">\n",
       "  <thead>\n",
       "    <tr style=\"text-align: right;\">\n",
       "      <th></th>\n",
       "      <th>init_node</th>\n",
       "      <th>init_node_thru</th>\n",
       "      <th>term_node</th>\n",
       "      <th>term_node_thru</th>\n",
       "      <th>capacity</th>\n",
       "      <th>free_flow_time</th>\n",
       "    </tr>\n",
       "  </thead>\n",
       "  <tbody>\n",
       "    <tr>\n",
       "      <th>0</th>\n",
       "      <td>1</td>\n",
       "      <td>False</td>\n",
       "      <td>117</td>\n",
       "      <td>True</td>\n",
       "      <td>9000.0</td>\n",
       "      <td>1.090458</td>\n",
       "    </tr>\n",
       "    <tr>\n",
       "      <th>1</th>\n",
       "      <td>2</td>\n",
       "      <td>False</td>\n",
       "      <td>87</td>\n",
       "      <td>True</td>\n",
       "      <td>9000.0</td>\n",
       "      <td>1.090458</td>\n",
       "    </tr>\n",
       "    <tr>\n",
       "      <th>2</th>\n",
       "      <td>3</td>\n",
       "      <td>False</td>\n",
       "      <td>74</td>\n",
       "      <td>True</td>\n",
       "      <td>9000.0</td>\n",
       "      <td>1.090458</td>\n",
       "    </tr>\n",
       "    <tr>\n",
       "      <th>3</th>\n",
       "      <td>4</td>\n",
       "      <td>False</td>\n",
       "      <td>233</td>\n",
       "      <td>True</td>\n",
       "      <td>9000.0</td>\n",
       "      <td>1.090458</td>\n",
       "    </tr>\n",
       "    <tr>\n",
       "      <th>4</th>\n",
       "      <td>5</td>\n",
       "      <td>False</td>\n",
       "      <td>165</td>\n",
       "      <td>True</td>\n",
       "      <td>9000.0</td>\n",
       "      <td>1.090458</td>\n",
       "    </tr>\n",
       "  </tbody>\n",
       "</table>\n",
       "</div>"
      ],
      "text/plain": [
       "   init_node  init_node_thru  term_node  term_node_thru  capacity  \\\n",
       "0          1           False        117            True    9000.0   \n",
       "1          2           False         87            True    9000.0   \n",
       "2          3           False         74            True    9000.0   \n",
       "3          4           False        233            True    9000.0   \n",
       "4          5           False        165            True    9000.0   \n",
       "\n",
       "   free_flow_time  \n",
       "0        1.090458  \n",
       "1        1.090458  \n",
       "2        1.090458  \n",
       "3        1.090458  \n",
       "4        1.090458  "
      ]
     },
     "execution_count": 8,
     "metadata": {},
     "output_type": "execute_result"
    }
   ],
   "source": [
    "net_name = cities_data + 'Anaheim_net.tntp'\n",
    "trips_name = cities_data + 'Anaheim_trips.tntp'\n",
    "\n",
    "handler = dh.DataHandler()\n",
    "graph_data = handler.GetGraphData(net_name, columns = ['init_node', 'term_node', 'capacity', 'free_flow_time'])\n",
    "graph_correspondences, total_od_flow = handler.GetGraphCorrespondences(trips_name)\n",
    "\n",
    "model = md.Model(graph_data, graph_correspondences, \n",
    "                    total_od_flow, mu = 0.25, rho = 0.15)\n",
    "\n",
    "graph_data['graph_table'].head()"
   ]
  },
  {
   "cell_type": "markdown",
   "metadata": {},
   "source": [
    "## Frank-Wolfe method"
   ]
  },
  {
   "cell_type": "code",
   "execution_count": null,
   "metadata": {
    "scrolled": true
   },
   "outputs": [],
   "source": [
    "#new prox oracle etc. t_weighted !!\n",
    "assert(model.mu == 0.25)\n",
    "max_iter = 10000\n",
    "\n",
    "print('Frank-Wolfe without stopping criteria')\n",
    "solver_kwargs = {'max_iter' : max_iter, 'stop_crit': 'max_iter',\n",
    "                 'verbose' : True, 'verbose_step': 2000, 'save_history' : True}\n",
    "tic = time.time()\n",
    "result = model.find_equilibrium(solver_name = 'fwm', solver_kwargs = solver_kwargs)\n",
    "toc = time.time()\n",
    "print('Elapsed time: {:.0f} sec'.format(toc - tic))\n",
    "print('Time ratio =', np.max(result['times'] / graph_data['graph_table']['free_flow_time']))\n",
    "print('Flow excess =', np.max(result['flows'] / graph_data['graph_table']['capacity']) - 1, end = '\\n\\n')"
   ]
  },
  {
   "cell_type": "code",
   "execution_count": null,
   "metadata": {},
   "outputs": [],
   "source": [
    "#with open(beckmann_save + 'anaheim_result_' + 'fwm_t_weighted' + '_max_iter_' + str(max_iter) + '_beckmann.pickle', 'wb') as f:\n",
    "#    pickle.dump(result, f)"
   ]
  },
  {
   "cell_type": "code",
   "execution_count": null,
   "metadata": {},
   "outputs": [],
   "source": [
    "with open(beckmann_save + 'anaheim_result_fwm_t_weighted_max_iter_10000_beckmann.pickle', 'rb') as f:\n",
    "    result = pickle.load(f)"
   ]
  },
  {
   "cell_type": "markdown",
   "metadata": {},
   "source": [
    "__Checking the result with the answer from https://github.com/bstabler/TransportationNetworks__ "
   ]
  },
  {
   "cell_type": "code",
   "execution_count": null,
   "metadata": {},
   "outputs": [],
   "source": [
    "answer = handler.ReadAnswer(cities_data + 'Anaheim_flow.tntp')\n",
    "delta = abs(answer['flows'] - result['flows'])\n",
    "print('Flows:')\n",
    "print('total_od_flow =', total_od_flow)\n",
    "print('min_i |f - f^*|[i] =', np.min(delta))\n",
    "print('max_i |f - f^*|[i] =', np.max(delta))\n",
    "print('||f - f^*||_1 / ||f^*||_1 =', np.linalg.norm(result['flows'] - answer['flows'], ord = 1) / np.linalg.norm(answer['flows'], ord = 1))\n",
    "print('||f - f^*||_2 / ||f^*||_2 =', np.linalg.norm(delta) / np.linalg.norm(answer['flows']))\n",
    "print('Times:')\n",
    "delta = abs(answer['times'] - result['times'])\n",
    "print('min_i |t - t^*|[i] =', np.min(delta))\n",
    "print('max_i |t - t^*|[i] =', np.max(delta))\n",
    "print('||t - t^*||_1 =', np.sum(delta))"
   ]
  },
  {
   "cell_type": "code",
   "execution_count": null,
   "metadata": {},
   "outputs": [],
   "source": [
    "dual_gaps = np.array(result['history']['dual_gap'])\n",
    "iters = np.array(result['history']['iter'])\n",
    "plt.figure(figsize = (10, 5))\n",
    "plt.plot(iters, dual_gaps)\n",
    "plt.title('Frank-Wolfe algorithm', fontsize = 16)\n",
    "plt.ylabel('duality gap', fontsize = 12)\n",
    "plt.xlabel('iterations', fontsize = 12)\n",
    "plt.yscale('log')\n",
    "plt.show()"
   ]
  },
  {
   "cell_type": "code",
   "execution_count": 10,
   "metadata": {},
   "outputs": [
    {
     "data": {
      "text/plain": [
       "array([1.00000000e+03, 3.16227766e+02, 1.00000000e+02, 3.16227766e+01,\n",
       "       1.00000000e+01, 3.16227766e+00, 1.00000000e+00, 3.16227766e-01])"
      ]
     },
     "execution_count": 10,
     "metadata": {},
     "output_type": "execute_result"
    }
   ],
   "source": [
    "epsilons = np.logspace(3,-0.5,8)\n",
    "epsilons"
   ]
  },
  {
   "cell_type": "markdown",
   "metadata": {},
   "source": [
    "## Universal Similar Triangles"
   ]
  },
  {
   "cell_type": "code",
   "execution_count": 11,
   "metadata": {},
   "outputs": [
    {
     "name": "stdout",
     "output_type": "stream",
     "text": [
      "eps_abs = 1000.0\n",
      "Composite optimization...\n",
      "Oracles created...\n",
      "Universal similar triangles method...\n",
      "Primal_init = 1.29606e+06\n",
      "Dual_init = -1.24813e+06\n",
      "Duality_gap_init = 47933.4\n"
     ]
    },
    {
     "name": "stderr",
     "output_type": "stream",
     "text": [
      "/home/user/git/TransportNet/Stable Dynamic & Beckman/grad_methods/universal_similar_triangles_method.py:53: RuntimeWarning: invalid value encountered in divide\n",
      "  y = (alpha * u_prev + A_prev * t_prev) / A\n",
      "/home/user/git/TransportNet/Stable Dynamic & Beckman/grad_methods/universal_similar_triangles_method.py:56: RuntimeWarning: invalid value encountered in multiply\n",
      "  grad_sum = grad_sum_prev + alpha * grad_y\n",
      "/home/user/git/TransportNet/Stable Dynamic & Beckman/oracles.py:326: RuntimeWarning: divide by zero encountered in divide\n",
      "  a_arr = self.capacities / (A * self.rho * self.freeflowtimes),\n"
     ]
    },
    {
     "name": "stdout",
     "output_type": "stream",
     "text": [
      "\n",
      "Iterations number: 2000\n",
      "Inner iterations number: 3477\n",
      "Primal_func_value = 1.28603e+06\n",
      "Dual_func_value = -1.28603e+06\n",
      "Duality_gap = 0.00594775\n",
      "Duality_gap / Duality_gap_init = 1.24084e-07\n"
     ]
    },
    {
     "name": "stderr",
     "output_type": "stream",
     "text": [
      "/home/user/git/TransportNet/Stable Dynamic & Beckman/model.py:91: SyntaxWarning: invalid escape sequence '\\i'\n",
      "  \"\"\"\n",
      "/home/user/git/TransportNet/Stable Dynamic & Beckman/oracles.py:118: SyntaxWarning: invalid escape sequence '\\P'\n",
      "  \"\"\"\n",
      "/home/user/git/TransportNet/Stable Dynamic & Beckman/oracles.py:274: SyntaxWarning: invalid escape sequence '\\s'\n",
      "  \"\"\"\n",
      "/home/user/git/TransportNet/Stable Dynamic & Beckman/oracles.py:287: SyntaxWarning: invalid escape sequence '\\s'\n",
      "  \"\"\"\n",
      "/home/user/git/TransportNet/Stable Dynamic & Beckman/oracles.py:307: SyntaxWarning: invalid escape sequence '\\i'\n",
      "  \"\"\"\n"
     ]
    },
    {
     "ename": "KeyboardInterrupt",
     "evalue": "",
     "output_type": "error",
     "traceback": [
      "\u001b[0;31m---------------------------------------------------------------------------\u001b[0m",
      "\u001b[0;31mKeyboardInterrupt\u001b[0m                         Traceback (most recent call last)",
      "Cell \u001b[0;32mIn[11], line 9\u001b[0m\n\u001b[1;32m      5\u001b[0m solver_kwargs \u001b[38;5;241m=\u001b[39m {\u001b[38;5;124m'\u001b[39m\u001b[38;5;124meps_abs\u001b[39m\u001b[38;5;124m'\u001b[39m: eps_abs,\n\u001b[1;32m      6\u001b[0m                  \u001b[38;5;124m'\u001b[39m\u001b[38;5;124mmax_iter\u001b[39m\u001b[38;5;124m'\u001b[39m: max_iter, \u001b[38;5;124m'\u001b[39m\u001b[38;5;124mstop_crit\u001b[39m\u001b[38;5;124m'\u001b[39m: \u001b[38;5;124m'\u001b[39m\u001b[38;5;124mmax_iter\u001b[39m\u001b[38;5;124m'\u001b[39m,\n\u001b[1;32m      7\u001b[0m                  \u001b[38;5;124m'\u001b[39m\u001b[38;5;124mverbose\u001b[39m\u001b[38;5;124m'\u001b[39m : \u001b[38;5;28;01mTrue\u001b[39;00m, \u001b[38;5;124m'\u001b[39m\u001b[38;5;124mverbose_step\u001b[39m\u001b[38;5;124m'\u001b[39m: \u001b[38;5;241m2000\u001b[39m, \u001b[38;5;124m'\u001b[39m\u001b[38;5;124msave_history\u001b[39m\u001b[38;5;124m'\u001b[39m : \u001b[38;5;28;01mTrue\u001b[39;00m}\n\u001b[1;32m      8\u001b[0m tic \u001b[38;5;241m=\u001b[39m time\u001b[38;5;241m.\u001b[39mtime()\n\u001b[0;32m----> 9\u001b[0m result \u001b[38;5;241m=\u001b[39m \u001b[43mmodel\u001b[49m\u001b[38;5;241;43m.\u001b[39;49m\u001b[43mfind_equilibrium\u001b[49m\u001b[43m(\u001b[49m\u001b[43msolver_name\u001b[49m\u001b[43m \u001b[49m\u001b[38;5;241;43m=\u001b[39;49m\u001b[43m \u001b[49m\u001b[38;5;124;43m'\u001b[39;49m\u001b[38;5;124;43mustm\u001b[39;49m\u001b[38;5;124;43m'\u001b[39;49m\u001b[43m,\u001b[49m\u001b[43m \u001b[49m\u001b[43mcomposite\u001b[49m\u001b[43m \u001b[49m\u001b[38;5;241;43m=\u001b[39;49m\u001b[43m \u001b[49m\u001b[38;5;28;43;01mTrue\u001b[39;49;00m\u001b[43m,\u001b[49m\u001b[43m \u001b[49m\u001b[43msolver_kwargs\u001b[49m\u001b[43m \u001b[49m\u001b[38;5;241;43m=\u001b[39;49m\u001b[43m \u001b[49m\u001b[43msolver_kwargs\u001b[49m\u001b[43m)\u001b[49m\n\u001b[1;32m     10\u001b[0m toc \u001b[38;5;241m=\u001b[39m time\u001b[38;5;241m.\u001b[39mtime()\n\u001b[1;32m     11\u001b[0m \u001b[38;5;28mprint\u001b[39m(\u001b[38;5;124m'\u001b[39m\u001b[38;5;124mElapsed time: \u001b[39m\u001b[38;5;132;01m{:.0f}\u001b[39;00m\u001b[38;5;124m sec\u001b[39m\u001b[38;5;124m'\u001b[39m\u001b[38;5;241m.\u001b[39mformat(toc \u001b[38;5;241m-\u001b[39m tic))\n",
      "File \u001b[0;32m~/git/TransportNet/Stable Dynamic & Beckman/model.py:107\u001b[0m, in \u001b[0;36mModel.find_equilibrium\u001b[0;34m(self, solver_name, composite, solver_kwargs, base_flows)\u001b[0m\n\u001b[1;32m    102\u001b[0m     result \u001b[38;5;241m=\u001b[39m solver_func(oracle,\n\u001b[1;32m    103\u001b[0m                          primal_dual_calculator, \n\u001b[1;32m    104\u001b[0m                          t_start \u001b[38;5;241m=\u001b[39m \u001b[38;5;28mself\u001b[39m\u001b[38;5;241m.\u001b[39mgraph\u001b[38;5;241m.\u001b[39mfreeflow_times,\n\u001b[1;32m    105\u001b[0m                          \u001b[38;5;241m*\u001b[39m\u001b[38;5;241m*\u001b[39msolver_kwargs)\n\u001b[1;32m    106\u001b[0m \u001b[38;5;28;01melse\u001b[39;00m:\n\u001b[0;32m--> 107\u001b[0m     result \u001b[38;5;241m=\u001b[39m \u001b[43msolver_func\u001b[49m\u001b[43m(\u001b[49m\u001b[43moracle\u001b[49m\u001b[43m,\u001b[49m\u001b[43m \u001b[49m\u001b[43mprox\u001b[49m\u001b[43m,\u001b[49m\n\u001b[1;32m    108\u001b[0m \u001b[43m                         \u001b[49m\u001b[43mprimal_dual_calculator\u001b[49m\u001b[43m,\u001b[49m\u001b[43m \u001b[49m\n\u001b[1;32m    109\u001b[0m \u001b[43m                         \u001b[49m\u001b[43mt_start\u001b[49m\u001b[43m \u001b[49m\u001b[38;5;241;43m=\u001b[39;49m\u001b[43m \u001b[49m\u001b[38;5;28;43mself\u001b[39;49m\u001b[38;5;241;43m.\u001b[39;49m\u001b[43mgraph\u001b[49m\u001b[38;5;241;43m.\u001b[39;49m\u001b[43mfreeflow_times\u001b[49m\u001b[43m,\u001b[49m\n\u001b[1;32m    110\u001b[0m \u001b[43m                         \u001b[49m\u001b[38;5;241;43m*\u001b[39;49m\u001b[38;5;241;43m*\u001b[39;49m\u001b[43msolver_kwargs\u001b[49m\u001b[43m)\u001b[49m\n\u001b[1;32m    111\u001b[0m \u001b[38;5;66;03m#getting travel times of every non-zero trips between zones:\u001b[39;00m\n\u001b[1;32m    112\u001b[0m result[\u001b[38;5;124m'\u001b[39m\u001b[38;5;124mzone travel times\u001b[39m\u001b[38;5;124m'\u001b[39m] \u001b[38;5;241m=\u001b[39m {}\n",
      "File \u001b[0;32m~/git/TransportNet/Stable Dynamic & Beckman/grad_methods/universal_similar_triangles_method.py:60\u001b[0m, in \u001b[0;36muniversal_similar_triangles_method\u001b[0;34m(oracle, prox, primal_dual_oracle, t_start, L_init, max_iter, eps, eps_abs, stop_crit, verbose_step, verbose, save_history)\u001b[0m\n\u001b[1;32m     57\u001b[0m u \u001b[38;5;241m=\u001b[39m prox(grad_sum \u001b[38;5;241m/\u001b[39m A, y_start, \u001b[38;5;241m1.0\u001b[39m \u001b[38;5;241m/\u001b[39m A)\n\u001b[1;32m     58\u001b[0m t \u001b[38;5;241m=\u001b[39m (alpha \u001b[38;5;241m*\u001b[39m u \u001b[38;5;241m+\u001b[39m A_prev \u001b[38;5;241m*\u001b[39m t_prev) \u001b[38;5;241m/\u001b[39m A\n\u001b[0;32m---> 60\u001b[0m left_value \u001b[38;5;241m=\u001b[39m (\u001b[43moracle\u001b[49m\u001b[38;5;241;43m.\u001b[39;49m\u001b[43mfunc\u001b[49m\u001b[43m(\u001b[49m\u001b[43my\u001b[49m\u001b[43m)\u001b[49m \u001b[38;5;241m+\u001b[39m np\u001b[38;5;241m.\u001b[39mdot(grad_y, t \u001b[38;5;241m-\u001b[39m y) \u001b[38;5;241m+\u001b[39m \n\u001b[1;32m     61\u001b[0m               \u001b[38;5;241m0.5\u001b[39m \u001b[38;5;241m*\u001b[39m alpha \u001b[38;5;241m/\u001b[39m A \u001b[38;5;241m*\u001b[39m eps_abs) \u001b[38;5;241m-\u001b[39m oracle\u001b[38;5;241m.\u001b[39mfunc(t)\n\u001b[1;32m     62\u001b[0m right_value \u001b[38;5;241m=\u001b[39m \u001b[38;5;241m-\u001b[39m \u001b[38;5;241m0.5\u001b[39m \u001b[38;5;241m*\u001b[39m L_value \u001b[38;5;241m*\u001b[39m np\u001b[38;5;241m.\u001b[39msum((t \u001b[38;5;241m-\u001b[39m y)\u001b[38;5;241m*\u001b[39m\u001b[38;5;241m*\u001b[39m\u001b[38;5;241m2\u001b[39m)\n\u001b[1;32m     63\u001b[0m \u001b[38;5;28;01mif\u001b[39;00m left_value \u001b[38;5;241m>\u001b[39m\u001b[38;5;241m=\u001b[39m right_value:\n",
      "File \u001b[0;32m~/git/TransportNet/Stable Dynamic & Beckman/oracles.py:205\u001b[0m, in \u001b[0;36mPhiBigOracle.func\u001b[0;34m(self, t_parameter)\u001b[0m\n\u001b[1;32m    203\u001b[0m \u001b[38;5;28;01mdef\u001b[39;00m \u001b[38;5;21mfunc\u001b[39m(\u001b[38;5;28mself\u001b[39m, t_parameter):\n\u001b[1;32m    204\u001b[0m     \u001b[38;5;28;01mif\u001b[39;00m \u001b[38;5;28mself\u001b[39m\u001b[38;5;241m.\u001b[39mt_current \u001b[38;5;129;01mis\u001b[39;00m \u001b[38;5;28;01mNone\u001b[39;00m \u001b[38;5;129;01mor\u001b[39;00m np\u001b[38;5;241m.\u001b[39many(\u001b[38;5;28mself\u001b[39m\u001b[38;5;241m.\u001b[39mt_current \u001b[38;5;241m!=\u001b[39m t_parameter):\n\u001b[0;32m--> 205\u001b[0m         \u001b[38;5;28;43mself\u001b[39;49m\u001b[38;5;241;43m.\u001b[39;49m\u001b[43m_reset\u001b[49m\u001b[43m(\u001b[49m\u001b[43mt_parameter\u001b[49m\u001b[43m)\u001b[49m\n\u001b[1;32m    206\u001b[0m     \u001b[38;5;28;01mreturn\u001b[39;00m \u001b[38;5;28mself\u001b[39m\u001b[38;5;241m.\u001b[39mfunc_current\n",
      "File \u001b[0;32m~/git/TransportNet/Stable Dynamic & Beckman/oracles.py:199\u001b[0m, in \u001b[0;36mPhiBigOracle._reset\u001b[0;34m(self, t_parameter)\u001b[0m\n\u001b[1;32m    197\u001b[0m \u001b[38;5;28mself\u001b[39m\u001b[38;5;241m.\u001b[39mauto_oracles_time \u001b[38;5;241m=\u001b[39m \u001b[38;5;241m0\u001b[39m\n\u001b[1;32m    198\u001b[0m \u001b[38;5;28;01mfor\u001b[39;00m auto_oracle \u001b[38;5;129;01min\u001b[39;00m \u001b[38;5;28mself\u001b[39m\u001b[38;5;241m.\u001b[39mauto_oracles:\n\u001b[0;32m--> 199\u001b[0m     \u001b[38;5;28mself\u001b[39m\u001b[38;5;241m.\u001b[39mfunc_current \u001b[38;5;241m+\u001b[39m\u001b[38;5;241m=\u001b[39m \u001b[43mauto_oracle\u001b[49m\u001b[38;5;241;43m.\u001b[39;49m\u001b[43mfunc\u001b[49m\u001b[43m(\u001b[49m\u001b[38;5;28;43mself\u001b[39;49m\u001b[38;5;241;43m.\u001b[39;49m\u001b[43mt_current\u001b[49m\u001b[43m)\u001b[49m\n\u001b[1;32m    200\u001b[0m     \u001b[38;5;28mself\u001b[39m\u001b[38;5;241m.\u001b[39mauto_oracles_time \u001b[38;5;241m+\u001b[39m\u001b[38;5;241m=\u001b[39m auto_oracle\u001b[38;5;241m.\u001b[39mtime\n\u001b[1;32m    201\u001b[0m \u001b[38;5;28mself\u001b[39m\u001b[38;5;241m.\u001b[39mtime \u001b[38;5;241m+\u001b[39m\u001b[38;5;241m=\u001b[39m time\u001b[38;5;241m.\u001b[39mtime() \u001b[38;5;241m-\u001b[39m tic\n",
      "File \u001b[0;32m~/git/TransportNet/Stable Dynamic & Beckman/oracles.py:138\u001b[0m, in \u001b[0;36mAutomaticOracle.func\u001b[0;34m(self, t_parameter)\u001b[0m\n\u001b[1;32m    137\u001b[0m \u001b[38;5;28;01mdef\u001b[39;00m \u001b[38;5;21mfunc\u001b[39m(\u001b[38;5;28mself\u001b[39m, t_parameter):\n\u001b[0;32m--> 138\u001b[0m     \u001b[38;5;28;43mself\u001b[39;49m\u001b[38;5;241;43m.\u001b[39;49m\u001b[43mupdate_shortest_paths\u001b[49m\u001b[43m(\u001b[49m\u001b[43mt_parameter\u001b[49m\u001b[43m)\u001b[49m\n\u001b[1;32m    139\u001b[0m     \u001b[38;5;28;01mreturn\u001b[39;00m \u001b[38;5;241m-\u001b[39m np\u001b[38;5;241m.\u001b[39mdot(\u001b[38;5;28mself\u001b[39m\u001b[38;5;241m.\u001b[39mdistances, \u001b[38;5;28mself\u001b[39m\u001b[38;5;241m.\u001b[39mcorr_values)\n",
      "File \u001b[0;32m~/git/TransportNet/Stable Dynamic & Beckman/oracles.py:151\u001b[0m, in \u001b[0;36mAutomaticOracle.update_shortest_paths\u001b[0;34m(self, t_parameter)\u001b[0m\n\u001b[1;32m    149\u001b[0m \u001b[38;5;28;01mdef\u001b[39;00m \u001b[38;5;21mupdate_shortest_paths\u001b[39m(\u001b[38;5;28mself\u001b[39m, t_parameter):\n\u001b[1;32m    150\u001b[0m     tic \u001b[38;5;241m=\u001b[39m time\u001b[38;5;241m.\u001b[39mtime()\n\u001b[0;32m--> 151\u001b[0m     \u001b[38;5;28mself\u001b[39m\u001b[38;5;241m.\u001b[39mdistances, \u001b[38;5;28mself\u001b[39m\u001b[38;5;241m.\u001b[39mpred_map \u001b[38;5;241m=\u001b[39m \u001b[38;5;28;43mself\u001b[39;49m\u001b[38;5;241;43m.\u001b[39;49m\u001b[43mgraph\u001b[49m\u001b[38;5;241;43m.\u001b[39;49m\u001b[43mshortest_distances\u001b[49m\u001b[43m(\u001b[49m\u001b[38;5;28;43mself\u001b[39;49m\u001b[38;5;241;43m.\u001b[39;49m\u001b[43msource\u001b[49m\u001b[43m,\u001b[49m\u001b[43m \u001b[49m\u001b[38;5;28;43mself\u001b[39;49m\u001b[38;5;241;43m.\u001b[39;49m\u001b[43mcorr_targets\u001b[49m\u001b[43m,\u001b[49m\u001b[43m \u001b[49m\u001b[43mt_parameter\u001b[49m\u001b[43m)\u001b[49m\n\u001b[1;32m    152\u001b[0m     \u001b[38;5;28mself\u001b[39m\u001b[38;5;241m.\u001b[39mtime \u001b[38;5;241m+\u001b[39m\u001b[38;5;241m=\u001b[39m time\u001b[38;5;241m.\u001b[39mtime() \u001b[38;5;241m-\u001b[39m tic\n",
      "File \u001b[0;32m~/git/TransportNet/Stable Dynamic & Beckman/transport_graph.py:65\u001b[0m, in \u001b[0;36mTransportGraph.shortest_distances\u001b[0;34m(self, source, targets, times)\u001b[0m\n\u001b[1;32m     63\u001b[0m     targets \u001b[38;5;241m=\u001b[39m np\u001b[38;5;241m.\u001b[39marange(\u001b[38;5;28mself\u001b[39m\u001b[38;5;241m.\u001b[39mnodes_number)\n\u001b[1;32m     64\u001b[0m ep_time_map \u001b[38;5;241m=\u001b[39m \u001b[38;5;28mself\u001b[39m\u001b[38;5;241m.\u001b[39mgraph\u001b[38;5;241m.\u001b[39mnew_edge_property(\u001b[38;5;124m\"\u001b[39m\u001b[38;5;124mdouble\u001b[39m\u001b[38;5;124m\"\u001b[39m, vals \u001b[38;5;241m=\u001b[39m times)\n\u001b[0;32m---> 65\u001b[0m distances, pred_map \u001b[38;5;241m=\u001b[39m \u001b[43mgtt\u001b[49m\u001b[38;5;241;43m.\u001b[39;49m\u001b[43mshortest_distance\u001b[49m\u001b[43m(\u001b[49m\u001b[43mg\u001b[49m\u001b[43m \u001b[49m\u001b[38;5;241;43m=\u001b[39;49m\u001b[43m \u001b[49m\u001b[38;5;28;43mself\u001b[39;49m\u001b[38;5;241;43m.\u001b[39;49m\u001b[43mgraph\u001b[49m\u001b[43m,\u001b[49m\n\u001b[1;32m     66\u001b[0m \u001b[43m                                            \u001b[49m\u001b[43msource\u001b[49m\u001b[43m \u001b[49m\u001b[38;5;241;43m=\u001b[39;49m\u001b[43m \u001b[49m\u001b[43msource\u001b[49m\u001b[43m,\u001b[49m\n\u001b[1;32m     67\u001b[0m \u001b[43m                                            \u001b[49m\u001b[43mtarget\u001b[49m\u001b[43m \u001b[49m\u001b[38;5;241;43m=\u001b[39;49m\u001b[43m \u001b[49m\u001b[43mtargets\u001b[49m\u001b[43m,\u001b[49m\n\u001b[1;32m     68\u001b[0m \u001b[43m                                            \u001b[49m\u001b[43mweights\u001b[49m\u001b[43m \u001b[49m\u001b[38;5;241;43m=\u001b[39;49m\u001b[43m \u001b[49m\u001b[43mep_time_map\u001b[49m\u001b[43m,\u001b[49m\n\u001b[1;32m     69\u001b[0m \u001b[43m                                            \u001b[49m\u001b[43mpred_map\u001b[49m\u001b[43m \u001b[49m\u001b[38;5;241;43m=\u001b[39;49m\u001b[43m \u001b[49m\u001b[38;5;28;43;01mTrue\u001b[39;49;00m\u001b[43m)\u001b[49m\n\u001b[1;32m     70\u001b[0m \u001b[38;5;28;01mreturn\u001b[39;00m distances, pred_map\u001b[38;5;241m.\u001b[39mget_array()\n",
      "File \u001b[0;32m~/miniconda3/envs/venv/lib/python3.12/site-packages/graph_tool/topology/__init__.py:2101\u001b[0m, in \u001b[0;36mshortest_distance\u001b[0;34m(g, source, target, weights, negative_weights, max_dist, directed, dense, dist_map, pred_map, return_reached, dag)\u001b[0m\n\u001b[1;32m   2099\u001b[0m         \u001b[38;5;28;01mraise\u001b[39;00m \u001b[38;5;167;01mValueError\u001b[39;00m(\u001b[38;5;124m\"\u001b[39m\u001b[38;5;124msupplied pred_map must be of value type \u001b[39m\u001b[38;5;124m'\u001b[39m\u001b[38;5;124mint64_t\u001b[39m\u001b[38;5;124m'\u001b[39m\u001b[38;5;124m\"\u001b[39m)\n\u001b[1;32m   2100\u001b[0m \u001b[38;5;28;01melse\u001b[39;00m:\n\u001b[0;32m-> 2101\u001b[0m     pmap \u001b[38;5;241m=\u001b[39m \u001b[43mu\u001b[49m\u001b[38;5;241;43m.\u001b[39;49m\u001b[43mcopy_property\u001b[49m\u001b[43m(\u001b[49m\u001b[43mu\u001b[49m\u001b[38;5;241;43m.\u001b[39;49m\u001b[43mvertex_index\u001b[49m\u001b[43m,\u001b[49m\u001b[43m \u001b[49m\u001b[43mvalue_type\u001b[49m\u001b[38;5;241;43m=\u001b[39;49m\u001b[38;5;124;43m\"\u001b[39;49m\u001b[38;5;124;43mint64_t\u001b[39;49m\u001b[38;5;124;43m\"\u001b[39;49m\u001b[43m)\u001b[49m\n\u001b[1;32m   2102\u001b[0m reached \u001b[38;5;241m=\u001b[39m libcore\u001b[38;5;241m.\u001b[39mVector_size_t()\n\u001b[1;32m   2103\u001b[0m libgraph_tool_topology\u001b[38;5;241m.\u001b[39mget_dists(u\u001b[38;5;241m.\u001b[39m_Graph__graph,\n\u001b[1;32m   2104\u001b[0m                                  \u001b[38;5;28mint\u001b[39m(u\u001b[38;5;241m.\u001b[39mvertex(\u001b[38;5;28mint\u001b[39m(source))),\n\u001b[1;32m   2105\u001b[0m                                  target,\n\u001b[0;32m   (...)\u001b[0m\n\u001b[1;32m   2109\u001b[0m                                  \u001b[38;5;28mfloat\u001b[39m(max_dist),\n\u001b[1;32m   2110\u001b[0m                                  negative_weights, reached, dag)\n",
      "File \u001b[0;32m~/miniconda3/envs/venv/lib/python3.12/site-packages/graph_tool/decorators.py:100\u001b[0m, in \u001b[0;36m_require.<locals>.make_wrapper.<locals>.wrapper\u001b[0;34m(*args, **kwargs)\u001b[0m\n\u001b[1;32m     94\u001b[0m             type_list \u001b[38;5;241m=\u001b[39m \u001b[38;5;124m\"\u001b[39m\u001b[38;5;124m or \u001b[39m\u001b[38;5;124m\"\u001b[39m\u001b[38;5;241m.\u001b[39mjoin(\u001b[38;5;28mstr\u001b[39m(allowed_type) \\\n\u001b[1;32m     95\u001b[0m                                     \u001b[38;5;28;01mfor\u001b[39;00m allowed_type \u001b[38;5;129;01min\u001b[39;00m \\\n\u001b[1;32m     96\u001b[0m                                     allowed_types)\n\u001b[1;32m     97\u001b[0m             \u001b[38;5;28;01mraise\u001b[39;00m \u001b[38;5;167;01mTypeError\u001b[39;00m(\u001b[38;5;124m\"\u001b[39m\u001b[38;5;124mExpected \u001b[39m\u001b[38;5;124m'\u001b[39m\u001b[38;5;132;01m%s\u001b[39;00m\u001b[38;5;124m'\u001b[39m\u001b[38;5;124m to be \u001b[39m\u001b[38;5;132;01m%s\u001b[39;00m\u001b[38;5;124m; was \u001b[39m\u001b[38;5;132;01m%s\u001b[39;00m\u001b[38;5;124m.\u001b[39m\u001b[38;5;124m\"\u001b[39m \u001b[38;5;241m%\u001b[39m\\\n\u001b[1;32m     98\u001b[0m                             (arg_name, type_list, \u001b[38;5;28mtype\u001b[39m(arg)))\n\u001b[0;32m--> 100\u001b[0m \u001b[38;5;28;01mreturn\u001b[39;00m \u001b[43mf\u001b[49m\u001b[43m(\u001b[49m\u001b[38;5;241;43m*\u001b[39;49m\u001b[43margs\u001b[49m\u001b[43m,\u001b[49m\u001b[43m \u001b[49m\u001b[38;5;241;43m*\u001b[39;49m\u001b[38;5;241;43m*\u001b[39;49m\u001b[43mkwargs\u001b[49m\u001b[43m)\u001b[49m\n",
      "File \u001b[0;32m~/miniconda3/envs/venv/lib/python3.12/site-packages/graph_tool/decorators.py:100\u001b[0m, in \u001b[0;36m_require.<locals>.make_wrapper.<locals>.wrapper\u001b[0;34m(*args, **kwargs)\u001b[0m\n\u001b[1;32m     94\u001b[0m             type_list \u001b[38;5;241m=\u001b[39m \u001b[38;5;124m\"\u001b[39m\u001b[38;5;124m or \u001b[39m\u001b[38;5;124m\"\u001b[39m\u001b[38;5;241m.\u001b[39mjoin(\u001b[38;5;28mstr\u001b[39m(allowed_type) \\\n\u001b[1;32m     95\u001b[0m                                     \u001b[38;5;28;01mfor\u001b[39;00m allowed_type \u001b[38;5;129;01min\u001b[39;00m \\\n\u001b[1;32m     96\u001b[0m                                     allowed_types)\n\u001b[1;32m     97\u001b[0m             \u001b[38;5;28;01mraise\u001b[39;00m \u001b[38;5;167;01mTypeError\u001b[39;00m(\u001b[38;5;124m\"\u001b[39m\u001b[38;5;124mExpected \u001b[39m\u001b[38;5;124m'\u001b[39m\u001b[38;5;132;01m%s\u001b[39;00m\u001b[38;5;124m'\u001b[39m\u001b[38;5;124m to be \u001b[39m\u001b[38;5;132;01m%s\u001b[39;00m\u001b[38;5;124m; was \u001b[39m\u001b[38;5;132;01m%s\u001b[39;00m\u001b[38;5;124m.\u001b[39m\u001b[38;5;124m\"\u001b[39m \u001b[38;5;241m%\u001b[39m\\\n\u001b[1;32m     98\u001b[0m                             (arg_name, type_list, \u001b[38;5;28mtype\u001b[39m(arg)))\n\u001b[0;32m--> 100\u001b[0m \u001b[38;5;28;01mreturn\u001b[39;00m \u001b[43mf\u001b[49m\u001b[43m(\u001b[49m\u001b[38;5;241;43m*\u001b[39;49m\u001b[43margs\u001b[49m\u001b[43m,\u001b[49m\u001b[43m \u001b[49m\u001b[38;5;241;43m*\u001b[39;49m\u001b[38;5;241;43m*\u001b[39;49m\u001b[43mkwargs\u001b[49m\u001b[43m)\u001b[49m\n",
      "File \u001b[0;32m~/miniconda3/envs/venv/lib/python3.12/site-packages/graph_tool/__init__.py:3054\u001b[0m, in \u001b[0;36mGraph.copy_property\u001b[0;34m(self, src, tgt, value_type, g, full)\u001b[0m\n\u001b[1;32m   3027\u001b[0m \u001b[38;5;250m\u001b[39m\u001b[38;5;124;03m\"\"\"Copy contents of ``src`` property to ``tgt`` property. If ``tgt`` is None,\u001b[39;00m\n\u001b[1;32m   3028\u001b[0m \u001b[38;5;124;03mthen a new property map of the same type (or with the type given by the\u001b[39;00m\n\u001b[1;32m   3029\u001b[0m \u001b[38;5;124;03moptional ``value_type`` parameter) is created, and returned. The\u001b[39;00m\n\u001b[0;32m   (...)\u001b[0m\n\u001b[1;32m   3051\u001b[0m \n\u001b[1;32m   3052\u001b[0m \u001b[38;5;124;03m\"\"\"\u001b[39;00m\n\u001b[1;32m   3053\u001b[0m \u001b[38;5;28;01mif\u001b[39;00m tgt \u001b[38;5;129;01mis\u001b[39;00m \u001b[38;5;28;01mNone\u001b[39;00m:\n\u001b[0;32m-> 3054\u001b[0m     tgt \u001b[38;5;241m=\u001b[39m \u001b[38;5;28;43mself\u001b[39;49m\u001b[38;5;241;43m.\u001b[39;49m\u001b[43mnew_property\u001b[49m\u001b[43m(\u001b[49m\u001b[43msrc\u001b[49m\u001b[38;5;241;43m.\u001b[39;49m\u001b[43mkey_type\u001b[49m\u001b[43m(\u001b[49m\u001b[43m)\u001b[49m\u001b[43m,\u001b[49m\n\u001b[1;32m   3055\u001b[0m \u001b[43m                            \u001b[49m\u001b[43m(\u001b[49m\u001b[43msrc\u001b[49m\u001b[38;5;241;43m.\u001b[39;49m\u001b[43mvalue_type\u001b[49m\u001b[43m(\u001b[49m\u001b[43m)\u001b[49m\n\u001b[1;32m   3056\u001b[0m \u001b[43m                             \u001b[49m\u001b[38;5;28;43;01mif\u001b[39;49;00m\u001b[43m \u001b[49m\u001b[43mvalue_type\u001b[49m\u001b[43m \u001b[49m\u001b[38;5;129;43;01mis\u001b[39;49;00m\u001b[43m \u001b[49m\u001b[38;5;28;43;01mNone\u001b[39;49;00m\u001b[43m \u001b[49m\u001b[38;5;28;43;01melse\u001b[39;49;00m\u001b[43m \u001b[49m\u001b[43mvalue_type\u001b[49m\u001b[43m)\u001b[49m\u001b[43m)\u001b[49m\n\u001b[1;32m   3057\u001b[0m     ret \u001b[38;5;241m=\u001b[39m tgt\n\u001b[1;32m   3058\u001b[0m \u001b[38;5;28;01melse\u001b[39;00m:\n",
      "File \u001b[0;32m~/miniconda3/envs/venv/lib/python3.12/site-packages/graph_tool/__init__.py:2958\u001b[0m, in \u001b[0;36mGraph.new_property\u001b[0;34m(self, key_type, value_type, vals)\u001b[0m\n\u001b[1;32m   2952\u001b[0m \u001b[38;5;250m\u001b[39m\u001b[38;5;124;03m\"\"\"Create a new (uninitialized) vertex property map of key type\u001b[39;00m\n\u001b[1;32m   2953\u001b[0m \u001b[38;5;124;03m``key_type`` (``v``, ``e`` or ``g``), value type ``value_type``, and\u001b[39;00m\n\u001b[1;32m   2954\u001b[0m \u001b[38;5;124;03mreturn it. If provided, the values will be initialized by ``vals``,\u001b[39;00m\n\u001b[1;32m   2955\u001b[0m \u001b[38;5;124;03mwhich should be a sequence.\u001b[39;00m\n\u001b[1;32m   2956\u001b[0m \u001b[38;5;124;03m\"\"\"\u001b[39;00m\n\u001b[1;32m   2957\u001b[0m \u001b[38;5;28;01mif\u001b[39;00m key_type \u001b[38;5;241m==\u001b[39m \u001b[38;5;124m\"\u001b[39m\u001b[38;5;124mv\u001b[39m\u001b[38;5;124m\"\u001b[39m \u001b[38;5;129;01mor\u001b[39;00m key_type \u001b[38;5;241m==\u001b[39m \u001b[38;5;124m\"\u001b[39m\u001b[38;5;124mvertex\u001b[39m\u001b[38;5;124m\"\u001b[39m:\n\u001b[0;32m-> 2958\u001b[0m     \u001b[38;5;28;01mreturn\u001b[39;00m \u001b[38;5;28;43mself\u001b[39;49m\u001b[38;5;241;43m.\u001b[39;49m\u001b[43mnew_vertex_property\u001b[49m\u001b[43m(\u001b[49m\u001b[43mvalue_type\u001b[49m\u001b[43m,\u001b[49m\u001b[43m \u001b[49m\u001b[43mvals\u001b[49m\u001b[43m)\u001b[49m\n\u001b[1;32m   2959\u001b[0m \u001b[38;5;28;01mif\u001b[39;00m key_type \u001b[38;5;241m==\u001b[39m \u001b[38;5;124m\"\u001b[39m\u001b[38;5;124me\u001b[39m\u001b[38;5;124m\"\u001b[39m \u001b[38;5;129;01mor\u001b[39;00m key_type \u001b[38;5;241m==\u001b[39m \u001b[38;5;124m\"\u001b[39m\u001b[38;5;124medge\u001b[39m\u001b[38;5;124m\"\u001b[39m:\n\u001b[1;32m   2960\u001b[0m     \u001b[38;5;28;01mreturn\u001b[39;00m \u001b[38;5;28mself\u001b[39m\u001b[38;5;241m.\u001b[39mnew_edge_property(value_type, vals)\n",
      "File \u001b[0;32m~/miniconda3/envs/venv/lib/python3.12/site-packages/graph_tool/__init__.py:2971\u001b[0m, in \u001b[0;36mGraph.new_vertex_property\u001b[0;34m(self, value_type, vals, val)\u001b[0m\n\u001b[1;32m   2965\u001b[0m \u001b[38;5;28;01mdef\u001b[39;00m \u001b[38;5;21mnew_vertex_property\u001b[39m(\u001b[38;5;28mself\u001b[39m, value_type, vals\u001b[38;5;241m=\u001b[39m\u001b[38;5;28;01mNone\u001b[39;00m, val\u001b[38;5;241m=\u001b[39m\u001b[38;5;28;01mNone\u001b[39;00m):\n\u001b[1;32m   2966\u001b[0m \u001b[38;5;250m    \u001b[39m\u001b[38;5;124;03m\"\"\"Create a new vertex property map of type ``value_type``, and return it. If\u001b[39;00m\n\u001b[1;32m   2967\u001b[0m \u001b[38;5;124;03m    provided, the values will be initialized by ``vals``, which should be\u001b[39;00m\n\u001b[1;32m   2968\u001b[0m \u001b[38;5;124;03m    sequence or by ``val`` which should be  a single value.\u001b[39;00m\n\u001b[1;32m   2969\u001b[0m \u001b[38;5;124;03m    \"\"\"\u001b[39;00m\n\u001b[1;32m   2970\u001b[0m     prop \u001b[38;5;241m=\u001b[39m VertexPropertyMap(new_vertex_property(_type_alias(value_type),\n\u001b[0;32m-> 2971\u001b[0m                                                  \u001b[38;5;28;43mself\u001b[39;49m\u001b[38;5;241;43m.\u001b[39;49m\u001b[43m__graph\u001b[49m\u001b[38;5;241;43m.\u001b[39;49m\u001b[43mget_vertex_index\u001b[49m\u001b[43m(\u001b[49m\u001b[43m)\u001b[49m,\n\u001b[1;32m   2972\u001b[0m                                                  libcore\u001b[38;5;241m.\u001b[39many()),\n\u001b[1;32m   2973\u001b[0m                        \u001b[38;5;28mself\u001b[39m)\n\u001b[1;32m   2974\u001b[0m     \u001b[38;5;28;01mif\u001b[39;00m vals \u001b[38;5;129;01mis\u001b[39;00m \u001b[38;5;129;01mnot\u001b[39;00m \u001b[38;5;28;01mNone\u001b[39;00m:\n\u001b[1;32m   2975\u001b[0m         \u001b[38;5;28;01mtry\u001b[39;00m:\n",
      "\u001b[0;31mKeyboardInterrupt\u001b[0m: "
     ]
    }
   ],
   "source": [
    "assert(model.mu == 0.25)\n",
    "max_iter = 10000\n",
    "for index, eps_abs in enumerate(epsilons):\n",
    "    print('eps_abs =', eps_abs)\n",
    "    solver_kwargs = {'eps_abs': eps_abs,\n",
    "                     'max_iter': max_iter, 'stop_crit': 'max_iter',\n",
    "                     'verbose' : True, 'verbose_step': 2000, 'save_history' : True}\n",
    "    tic = time.time()\n",
    "    result = model.find_equilibrium(solver_name = 'ustm', composite = True, solver_kwargs = solver_kwargs)\n",
    "    toc = time.time()\n",
    "    print('Elapsed time: {:.0f} sec'.format(toc - tic))\n",
    "    print('Time ratio =', np.max(result['times'] / graph_data['graph_table']['free_flow_time']))\n",
    "    print('Flow excess =', np.max(result['flows'] / graph_data['graph_table']['capacity']) - 1, end = '\\n\\n')\n",
    "\n",
    "    result['eps_abs'] = eps_abs\n",
    "    result['elapsed_time'] = toc - tic\n",
    "    with open(beckmann_save + 'anaheim_result_' + 'ustm' + '_eps_abs_' + str(index) + '_beckmann.pickle', 'wb') as f:\n",
    "        pickle.dump(result, f)"
   ]
  },
  {
   "cell_type": "code",
   "execution_count": null,
   "metadata": {
    "scrolled": true
   },
   "outputs": [],
   "source": [
    "assert(model.mu == 0.25)\n",
    "max_iter = 40000\n",
    "for index, eps_abs in enumerate(epsilons):\n",
    "    if index < len(epsilons) - 1:\n",
    "        continue\n",
    "    print('eps_abs =', eps_abs)\n",
    "    solver_kwargs = {'eps_abs': eps_abs,\n",
    "                     'max_iter': max_iter, 'stop_crit': 'dual_gap',\n",
    "                     'verbose' : True, 'verbose_step': 4000, 'save_history' : True}\n",
    "    tic = time.time()\n",
    "    result = model.find_equilibrium(solver_name = 'ustm', composite = True, solver_kwargs = solver_kwargs)\n",
    "    toc = time.time()\n",
    "    print('Elapsed time: {:.0f} sec'.format(toc - tic))\n",
    "    print('Time ratio =', np.max(result['times'] / graph_data['graph_table']['free_flow_time']))\n",
    "    print('Flow excess =', np.max(result['flows'] / graph_data['graph_table']['capacity']) - 1, end = '\\n\\n')\n",
    "\n",
    "    result['eps_abs'] = eps_abs\n",
    "    result['elapsed_time'] = toc - tic\n",
    "    with open(beckmann_save + 'anaheim_result_' + 'ustm' + '_eps_abs_' + str(index) + '_beckmann.pickle', 'wb') as f:\n",
    "        pickle.dump(result, f)"
   ]
  },
  {
   "cell_type": "code",
   "execution_count": null,
   "metadata": {},
   "outputs": [],
   "source": [
    "#index += 8\n",
    "#epsilons = np.logspace(4, 3, 5)[:-1]\n",
    "#epsilons"
   ]
  },
  {
   "cell_type": "markdown",
   "metadata": {},
   "source": [
    "## Universal Gradient Descent"
   ]
  },
  {
   "cell_type": "code",
   "execution_count": 12,
   "metadata": {},
   "outputs": [
    {
     "data": {
      "text/plain": [
       "array([1000.        ,  562.34132519,  316.22776602,  177.827941  ,\n",
       "        100.        ,   56.23413252,   31.6227766 ])"
      ]
     },
     "execution_count": 12,
     "metadata": {},
     "output_type": "execute_result"
    }
   ],
   "source": [
    "epsilons = np.logspace(3,1.5,7)\n",
    "epsilons"
   ]
  },
  {
   "cell_type": "code",
   "execution_count": 13,
   "metadata": {
    "scrolled": true
   },
   "outputs": [
    {
     "name": "stdout",
     "output_type": "stream",
     "text": [
      "eps_abs = 1000.0\n",
      "Composite optimization...\n",
      "Oracles created...\n",
      "Universal gradient descent method...\n",
      "Primal_init = 1.29606e+06\n",
      "Dual_init = -1.24813e+06\n",
      "Duality_gap_init = 47933.4\n",
      "\n",
      "Result: success\n",
      "Total iters: 74\n",
      "Primal_func_value = 1.28629e+06\n",
      "Dual_func_value = -1.2853e+06\n",
      "Duality_gap = 990.459\n",
      "Duality_gap / Duality_gap_init = 0.0206632\n",
      "Oracle elapsed time: 3 sec\n",
      "Elapsed time: 3 sec\n",
      "Time ratio = 2.545876295139248\n",
      "Flow excess = 1.179200110558324\n",
      "\n",
      "eps_abs = 562.341325190349\n",
      "Composite optimization...\n",
      "Oracles created...\n",
      "Universal gradient descent method...\n",
      "Primal_init = 1.29606e+06\n",
      "Dual_init = -1.24813e+06\n",
      "Duality_gap_init = 47933.4\n",
      "\n",
      "Result: success\n",
      "Total iters: 196\n",
      "Primal_func_value = 1.28619e+06\n",
      "Dual_func_value = -1.28564e+06\n",
      "Duality_gap = 556.132\n",
      "Duality_gap / Duality_gap_init = 0.0116022\n",
      "Oracle elapsed time: 8 sec\n",
      "Elapsed time: 8 sec\n",
      "Time ratio = 2.7413540508489267\n",
      "Flow excess = 1.128239661185849\n",
      "\n",
      "eps_abs = 316.22776601683796\n",
      "Composite optimization...\n",
      "Oracles created...\n",
      "Universal gradient descent method...\n",
      "Primal_init = 1.29606e+06\n",
      "Dual_init = -1.24813e+06\n",
      "Duality_gap_init = 47933.4\n",
      "\n",
      "Result: success\n",
      "Total iters: 521\n",
      "Primal_func_value = 1.28613e+06\n",
      "Dual_func_value = -1.28581e+06\n",
      "Duality_gap = 315.529\n",
      "Duality_gap / Duality_gap_init = 0.00658266\n",
      "Oracle elapsed time: 22 sec\n",
      "Elapsed time: 22 sec\n",
      "Time ratio = 2.8984775307319812\n",
      "Flow excess = 1.0867413151607432\n",
      "\n",
      "eps_abs = 177.82794100389228\n",
      "Composite optimization...\n",
      "Oracles created...\n",
      "Universal gradient descent method...\n",
      "Primal_init = 1.29606e+06\n",
      "Dual_init = -1.24813e+06\n",
      "Duality_gap_init = 47933.4\n",
      "\n",
      "Result: success\n",
      "Total iters: 1365\n",
      "Primal_func_value = 1.28609e+06\n",
      "Dual_func_value = -1.28592e+06\n",
      "Duality_gap = 177.756\n",
      "Duality_gap / Duality_gap_init = 0.00370839\n",
      "Oracle elapsed time: 56 sec\n",
      "Elapsed time: 57 sec\n",
      "Time ratio = 3.01552527210524\n",
      "Flow excess = 1.0553030844200242\n",
      "\n",
      "eps_abs = 100.0\n",
      "Composite optimization...\n",
      "Oracles created...\n",
      "Universal gradient descent method...\n",
      "Primal_init = 1.29606e+06\n",
      "Dual_init = -1.24813e+06\n",
      "Duality_gap_init = 47933.4\n"
     ]
    },
    {
     "ename": "KeyboardInterrupt",
     "evalue": "",
     "output_type": "error",
     "traceback": [
      "\u001b[0;31m---------------------------------------------------------------------------\u001b[0m",
      "\u001b[0;31mKeyboardInterrupt\u001b[0m                         Traceback (most recent call last)",
      "Cell \u001b[0;32mIn[13], line 10\u001b[0m\n\u001b[1;32m      6\u001b[0m solver_kwargs \u001b[38;5;241m=\u001b[39m {\u001b[38;5;124m'\u001b[39m\u001b[38;5;124meps_abs\u001b[39m\u001b[38;5;124m'\u001b[39m: eps_abs,\n\u001b[1;32m      7\u001b[0m                  \u001b[38;5;124m'\u001b[39m\u001b[38;5;124mmax_iter\u001b[39m\u001b[38;5;124m'\u001b[39m: max_iter, \u001b[38;5;124m'\u001b[39m\u001b[38;5;124mstop_crit\u001b[39m\u001b[38;5;124m'\u001b[39m: \u001b[38;5;124m'\u001b[39m\u001b[38;5;124mdual_gap\u001b[39m\u001b[38;5;124m'\u001b[39m,\n\u001b[1;32m      8\u001b[0m                  \u001b[38;5;124m'\u001b[39m\u001b[38;5;124mverbose\u001b[39m\u001b[38;5;124m'\u001b[39m : \u001b[38;5;28;01mTrue\u001b[39;00m, \u001b[38;5;124m'\u001b[39m\u001b[38;5;124mverbose_step\u001b[39m\u001b[38;5;124m'\u001b[39m: \u001b[38;5;241m4000\u001b[39m, \u001b[38;5;124m'\u001b[39m\u001b[38;5;124msave_history\u001b[39m\u001b[38;5;124m'\u001b[39m : \u001b[38;5;28;01mTrue\u001b[39;00m}\n\u001b[1;32m      9\u001b[0m tic \u001b[38;5;241m=\u001b[39m time\u001b[38;5;241m.\u001b[39mtime()\n\u001b[0;32m---> 10\u001b[0m result \u001b[38;5;241m=\u001b[39m \u001b[43mmodel\u001b[49m\u001b[38;5;241;43m.\u001b[39;49m\u001b[43mfind_equilibrium\u001b[49m\u001b[43m(\u001b[49m\u001b[43msolver_name\u001b[49m\u001b[43m \u001b[49m\u001b[38;5;241;43m=\u001b[39;49m\u001b[43m \u001b[49m\u001b[38;5;124;43m'\u001b[39;49m\u001b[38;5;124;43mugd\u001b[39;49m\u001b[38;5;124;43m'\u001b[39;49m\u001b[43m,\u001b[49m\u001b[43m \u001b[49m\u001b[43mcomposite\u001b[49m\u001b[43m \u001b[49m\u001b[38;5;241;43m=\u001b[39;49m\u001b[43m \u001b[49m\u001b[38;5;28;43;01mTrue\u001b[39;49;00m\u001b[43m,\u001b[49m\u001b[43m \u001b[49m\u001b[43msolver_kwargs\u001b[49m\u001b[43m \u001b[49m\u001b[38;5;241;43m=\u001b[39;49m\u001b[43m \u001b[49m\u001b[43msolver_kwargs\u001b[49m\u001b[43m)\u001b[49m\n\u001b[1;32m     11\u001b[0m toc \u001b[38;5;241m=\u001b[39m time\u001b[38;5;241m.\u001b[39mtime()\n\u001b[1;32m     12\u001b[0m \u001b[38;5;28mprint\u001b[39m(\u001b[38;5;124m'\u001b[39m\u001b[38;5;124mElapsed time: \u001b[39m\u001b[38;5;132;01m{:.0f}\u001b[39;00m\u001b[38;5;124m sec\u001b[39m\u001b[38;5;124m'\u001b[39m\u001b[38;5;241m.\u001b[39mformat(toc \u001b[38;5;241m-\u001b[39m tic))\n",
      "File \u001b[0;32m~/git/TransportNet/Stable Dynamic & Beckman/model.py:107\u001b[0m, in \u001b[0;36mModel.find_equilibrium\u001b[0;34m(self, solver_name, composite, solver_kwargs, base_flows)\u001b[0m\n\u001b[1;32m    102\u001b[0m     result \u001b[38;5;241m=\u001b[39m solver_func(oracle,\n\u001b[1;32m    103\u001b[0m                          primal_dual_calculator, \n\u001b[1;32m    104\u001b[0m                          t_start \u001b[38;5;241m=\u001b[39m \u001b[38;5;28mself\u001b[39m\u001b[38;5;241m.\u001b[39mgraph\u001b[38;5;241m.\u001b[39mfreeflow_times,\n\u001b[1;32m    105\u001b[0m                          \u001b[38;5;241m*\u001b[39m\u001b[38;5;241m*\u001b[39msolver_kwargs)\n\u001b[1;32m    106\u001b[0m \u001b[38;5;28;01melse\u001b[39;00m:\n\u001b[0;32m--> 107\u001b[0m     result \u001b[38;5;241m=\u001b[39m \u001b[43msolver_func\u001b[49m\u001b[43m(\u001b[49m\u001b[43moracle\u001b[49m\u001b[43m,\u001b[49m\u001b[43m \u001b[49m\u001b[43mprox\u001b[49m\u001b[43m,\u001b[49m\n\u001b[1;32m    108\u001b[0m \u001b[43m                         \u001b[49m\u001b[43mprimal_dual_calculator\u001b[49m\u001b[43m,\u001b[49m\u001b[43m \u001b[49m\n\u001b[1;32m    109\u001b[0m \u001b[43m                         \u001b[49m\u001b[43mt_start\u001b[49m\u001b[43m \u001b[49m\u001b[38;5;241;43m=\u001b[39;49m\u001b[43m \u001b[49m\u001b[38;5;28;43mself\u001b[39;49m\u001b[38;5;241;43m.\u001b[39;49m\u001b[43mgraph\u001b[49m\u001b[38;5;241;43m.\u001b[39;49m\u001b[43mfreeflow_times\u001b[49m\u001b[43m,\u001b[49m\n\u001b[1;32m    110\u001b[0m \u001b[43m                         \u001b[49m\u001b[38;5;241;43m*\u001b[39;49m\u001b[38;5;241;43m*\u001b[39;49m\u001b[43msolver_kwargs\u001b[49m\u001b[43m)\u001b[49m\n\u001b[1;32m    111\u001b[0m \u001b[38;5;66;03m#getting travel times of every non-zero trips between zones:\u001b[39;00m\n\u001b[1;32m    112\u001b[0m result[\u001b[38;5;124m'\u001b[39m\u001b[38;5;124mzone travel times\u001b[39m\u001b[38;5;124m'\u001b[39m] \u001b[38;5;241m=\u001b[39m {}\n",
      "File \u001b[0;32m~/git/TransportNet/Stable Dynamic & Beckman/grad_methods/universal_gradient_descent_method.py:52\u001b[0m, in \u001b[0;36muniversal_gradient_descent_method\u001b[0;34m(oracle, prox, primal_dual_oracle, t_start, L_init, max_iter, eps, eps_abs, stop_crit, verbose_step, verbose, save_history)\u001b[0m\n\u001b[1;32m     48\u001b[0m flows \u001b[38;5;241m=\u001b[39m primal_dual_oracle\u001b[38;5;241m.\u001b[39mget_flows(t_prev) \u001b[38;5;66;03m#grad() is called here\u001b[39;00m\n\u001b[1;32m     49\u001b[0m t \u001b[38;5;241m=\u001b[39m prox(grad_t, t_prev, \u001b[38;5;241m1.0\u001b[39m \u001b[38;5;241m/\u001b[39m alpha)\n\u001b[1;32m     51\u001b[0m left_value \u001b[38;5;241m=\u001b[39m (oracle\u001b[38;5;241m.\u001b[39mfunc(t_prev) \u001b[38;5;241m+\u001b[39m np\u001b[38;5;241m.\u001b[39mdot(grad_t, t \u001b[38;5;241m-\u001b[39m t_prev) \u001b[38;5;241m+\u001b[39m \n\u001b[0;32m---> 52\u001b[0m               \u001b[38;5;241m0.5\u001b[39m \u001b[38;5;241m*\u001b[39m eps_abs) \u001b[38;5;241m-\u001b[39m \u001b[43moracle\u001b[49m\u001b[38;5;241;43m.\u001b[39;49m\u001b[43mfunc\u001b[49m\u001b[43m(\u001b[49m\u001b[43mt\u001b[49m\u001b[43m)\u001b[49m\n\u001b[1;32m     53\u001b[0m right_value \u001b[38;5;241m=\u001b[39m \u001b[38;5;241m-\u001b[39m \u001b[38;5;241m0.5\u001b[39m \u001b[38;5;241m*\u001b[39m L_value \u001b[38;5;241m*\u001b[39m np\u001b[38;5;241m.\u001b[39msum((t \u001b[38;5;241m-\u001b[39m t_prev)\u001b[38;5;241m*\u001b[39m\u001b[38;5;241m*\u001b[39m\u001b[38;5;241m2\u001b[39m)\n\u001b[1;32m     54\u001b[0m \u001b[38;5;28;01mif\u001b[39;00m left_value \u001b[38;5;241m>\u001b[39m\u001b[38;5;241m=\u001b[39m right_value:\n",
      "File \u001b[0;32m~/git/TransportNet/Stable Dynamic & Beckman/oracles.py:205\u001b[0m, in \u001b[0;36mPhiBigOracle.func\u001b[0;34m(self, t_parameter)\u001b[0m\n\u001b[1;32m    203\u001b[0m \u001b[38;5;28;01mdef\u001b[39;00m \u001b[38;5;21mfunc\u001b[39m(\u001b[38;5;28mself\u001b[39m, t_parameter):\n\u001b[1;32m    204\u001b[0m     \u001b[38;5;28;01mif\u001b[39;00m \u001b[38;5;28mself\u001b[39m\u001b[38;5;241m.\u001b[39mt_current \u001b[38;5;129;01mis\u001b[39;00m \u001b[38;5;28;01mNone\u001b[39;00m \u001b[38;5;129;01mor\u001b[39;00m np\u001b[38;5;241m.\u001b[39many(\u001b[38;5;28mself\u001b[39m\u001b[38;5;241m.\u001b[39mt_current \u001b[38;5;241m!=\u001b[39m t_parameter):\n\u001b[0;32m--> 205\u001b[0m         \u001b[38;5;28;43mself\u001b[39;49m\u001b[38;5;241;43m.\u001b[39;49m\u001b[43m_reset\u001b[49m\u001b[43m(\u001b[49m\u001b[43mt_parameter\u001b[49m\u001b[43m)\u001b[49m\n\u001b[1;32m    206\u001b[0m     \u001b[38;5;28;01mreturn\u001b[39;00m \u001b[38;5;28mself\u001b[39m\u001b[38;5;241m.\u001b[39mfunc_current\n",
      "File \u001b[0;32m~/git/TransportNet/Stable Dynamic & Beckman/oracles.py:199\u001b[0m, in \u001b[0;36mPhiBigOracle._reset\u001b[0;34m(self, t_parameter)\u001b[0m\n\u001b[1;32m    197\u001b[0m \u001b[38;5;28mself\u001b[39m\u001b[38;5;241m.\u001b[39mauto_oracles_time \u001b[38;5;241m=\u001b[39m \u001b[38;5;241m0\u001b[39m\n\u001b[1;32m    198\u001b[0m \u001b[38;5;28;01mfor\u001b[39;00m auto_oracle \u001b[38;5;129;01min\u001b[39;00m \u001b[38;5;28mself\u001b[39m\u001b[38;5;241m.\u001b[39mauto_oracles:\n\u001b[0;32m--> 199\u001b[0m     \u001b[38;5;28mself\u001b[39m\u001b[38;5;241m.\u001b[39mfunc_current \u001b[38;5;241m+\u001b[39m\u001b[38;5;241m=\u001b[39m \u001b[43mauto_oracle\u001b[49m\u001b[38;5;241;43m.\u001b[39;49m\u001b[43mfunc\u001b[49m\u001b[43m(\u001b[49m\u001b[38;5;28;43mself\u001b[39;49m\u001b[38;5;241;43m.\u001b[39;49m\u001b[43mt_current\u001b[49m\u001b[43m)\u001b[49m\n\u001b[1;32m    200\u001b[0m     \u001b[38;5;28mself\u001b[39m\u001b[38;5;241m.\u001b[39mauto_oracles_time \u001b[38;5;241m+\u001b[39m\u001b[38;5;241m=\u001b[39m auto_oracle\u001b[38;5;241m.\u001b[39mtime\n\u001b[1;32m    201\u001b[0m \u001b[38;5;28mself\u001b[39m\u001b[38;5;241m.\u001b[39mtime \u001b[38;5;241m+\u001b[39m\u001b[38;5;241m=\u001b[39m time\u001b[38;5;241m.\u001b[39mtime() \u001b[38;5;241m-\u001b[39m tic\n",
      "File \u001b[0;32m~/git/TransportNet/Stable Dynamic & Beckman/oracles.py:138\u001b[0m, in \u001b[0;36mAutomaticOracle.func\u001b[0;34m(self, t_parameter)\u001b[0m\n\u001b[1;32m    137\u001b[0m \u001b[38;5;28;01mdef\u001b[39;00m \u001b[38;5;21mfunc\u001b[39m(\u001b[38;5;28mself\u001b[39m, t_parameter):\n\u001b[0;32m--> 138\u001b[0m     \u001b[38;5;28;43mself\u001b[39;49m\u001b[38;5;241;43m.\u001b[39;49m\u001b[43mupdate_shortest_paths\u001b[49m\u001b[43m(\u001b[49m\u001b[43mt_parameter\u001b[49m\u001b[43m)\u001b[49m\n\u001b[1;32m    139\u001b[0m     \u001b[38;5;28;01mreturn\u001b[39;00m \u001b[38;5;241m-\u001b[39m np\u001b[38;5;241m.\u001b[39mdot(\u001b[38;5;28mself\u001b[39m\u001b[38;5;241m.\u001b[39mdistances, \u001b[38;5;28mself\u001b[39m\u001b[38;5;241m.\u001b[39mcorr_values)\n",
      "File \u001b[0;32m~/git/TransportNet/Stable Dynamic & Beckman/oracles.py:151\u001b[0m, in \u001b[0;36mAutomaticOracle.update_shortest_paths\u001b[0;34m(self, t_parameter)\u001b[0m\n\u001b[1;32m    149\u001b[0m \u001b[38;5;28;01mdef\u001b[39;00m \u001b[38;5;21mupdate_shortest_paths\u001b[39m(\u001b[38;5;28mself\u001b[39m, t_parameter):\n\u001b[1;32m    150\u001b[0m     tic \u001b[38;5;241m=\u001b[39m time\u001b[38;5;241m.\u001b[39mtime()\n\u001b[0;32m--> 151\u001b[0m     \u001b[38;5;28mself\u001b[39m\u001b[38;5;241m.\u001b[39mdistances, \u001b[38;5;28mself\u001b[39m\u001b[38;5;241m.\u001b[39mpred_map \u001b[38;5;241m=\u001b[39m \u001b[38;5;28;43mself\u001b[39;49m\u001b[38;5;241;43m.\u001b[39;49m\u001b[43mgraph\u001b[49m\u001b[38;5;241;43m.\u001b[39;49m\u001b[43mshortest_distances\u001b[49m\u001b[43m(\u001b[49m\u001b[38;5;28;43mself\u001b[39;49m\u001b[38;5;241;43m.\u001b[39;49m\u001b[43msource\u001b[49m\u001b[43m,\u001b[49m\u001b[43m \u001b[49m\u001b[38;5;28;43mself\u001b[39;49m\u001b[38;5;241;43m.\u001b[39;49m\u001b[43mcorr_targets\u001b[49m\u001b[43m,\u001b[49m\u001b[43m \u001b[49m\u001b[43mt_parameter\u001b[49m\u001b[43m)\u001b[49m\n\u001b[1;32m    152\u001b[0m     \u001b[38;5;28mself\u001b[39m\u001b[38;5;241m.\u001b[39mtime \u001b[38;5;241m+\u001b[39m\u001b[38;5;241m=\u001b[39m time\u001b[38;5;241m.\u001b[39mtime() \u001b[38;5;241m-\u001b[39m tic\n",
      "File \u001b[0;32m~/git/TransportNet/Stable Dynamic & Beckman/transport_graph.py:65\u001b[0m, in \u001b[0;36mTransportGraph.shortest_distances\u001b[0;34m(self, source, targets, times)\u001b[0m\n\u001b[1;32m     63\u001b[0m     targets \u001b[38;5;241m=\u001b[39m np\u001b[38;5;241m.\u001b[39marange(\u001b[38;5;28mself\u001b[39m\u001b[38;5;241m.\u001b[39mnodes_number)\n\u001b[1;32m     64\u001b[0m ep_time_map \u001b[38;5;241m=\u001b[39m \u001b[38;5;28mself\u001b[39m\u001b[38;5;241m.\u001b[39mgraph\u001b[38;5;241m.\u001b[39mnew_edge_property(\u001b[38;5;124m\"\u001b[39m\u001b[38;5;124mdouble\u001b[39m\u001b[38;5;124m\"\u001b[39m, vals \u001b[38;5;241m=\u001b[39m times)\n\u001b[0;32m---> 65\u001b[0m distances, pred_map \u001b[38;5;241m=\u001b[39m \u001b[43mgtt\u001b[49m\u001b[38;5;241;43m.\u001b[39;49m\u001b[43mshortest_distance\u001b[49m\u001b[43m(\u001b[49m\u001b[43mg\u001b[49m\u001b[43m \u001b[49m\u001b[38;5;241;43m=\u001b[39;49m\u001b[43m \u001b[49m\u001b[38;5;28;43mself\u001b[39;49m\u001b[38;5;241;43m.\u001b[39;49m\u001b[43mgraph\u001b[49m\u001b[43m,\u001b[49m\n\u001b[1;32m     66\u001b[0m \u001b[43m                                            \u001b[49m\u001b[43msource\u001b[49m\u001b[43m \u001b[49m\u001b[38;5;241;43m=\u001b[39;49m\u001b[43m \u001b[49m\u001b[43msource\u001b[49m\u001b[43m,\u001b[49m\n\u001b[1;32m     67\u001b[0m \u001b[43m                                            \u001b[49m\u001b[43mtarget\u001b[49m\u001b[43m \u001b[49m\u001b[38;5;241;43m=\u001b[39;49m\u001b[43m \u001b[49m\u001b[43mtargets\u001b[49m\u001b[43m,\u001b[49m\n\u001b[1;32m     68\u001b[0m \u001b[43m                                            \u001b[49m\u001b[43mweights\u001b[49m\u001b[43m \u001b[49m\u001b[38;5;241;43m=\u001b[39;49m\u001b[43m \u001b[49m\u001b[43mep_time_map\u001b[49m\u001b[43m,\u001b[49m\n\u001b[1;32m     69\u001b[0m \u001b[43m                                            \u001b[49m\u001b[43mpred_map\u001b[49m\u001b[43m \u001b[49m\u001b[38;5;241;43m=\u001b[39;49m\u001b[43m \u001b[49m\u001b[38;5;28;43;01mTrue\u001b[39;49;00m\u001b[43m)\u001b[49m\n\u001b[1;32m     70\u001b[0m \u001b[38;5;28;01mreturn\u001b[39;00m distances, pred_map\u001b[38;5;241m.\u001b[39mget_array()\n",
      "File \u001b[0;32m~/miniconda3/envs/venv/lib/python3.12/site-packages/graph_tool/topology/__init__.py:2106\u001b[0m, in \u001b[0;36mshortest_distance\u001b[0;34m(g, source, target, weights, negative_weights, max_dist, directed, dense, dist_map, pred_map, return_reached, dag)\u001b[0m\n\u001b[1;32m   2101\u001b[0m         pmap \u001b[38;5;241m=\u001b[39m u\u001b[38;5;241m.\u001b[39mcopy_property(u\u001b[38;5;241m.\u001b[39mvertex_index, value_type\u001b[38;5;241m=\u001b[39m\u001b[38;5;124m\"\u001b[39m\u001b[38;5;124mint64_t\u001b[39m\u001b[38;5;124m\"\u001b[39m)\n\u001b[1;32m   2102\u001b[0m     reached \u001b[38;5;241m=\u001b[39m libcore\u001b[38;5;241m.\u001b[39mVector_size_t()\n\u001b[1;32m   2103\u001b[0m     libgraph_tool_topology\u001b[38;5;241m.\u001b[39mget_dists(u\u001b[38;5;241m.\u001b[39m_Graph__graph,\n\u001b[1;32m   2104\u001b[0m                                      \u001b[38;5;28mint\u001b[39m(u\u001b[38;5;241m.\u001b[39mvertex(\u001b[38;5;28mint\u001b[39m(source))),\n\u001b[1;32m   2105\u001b[0m                                      target,\n\u001b[0;32m-> 2106\u001b[0m                                      \u001b[43m_prop\u001b[49m\u001b[43m(\u001b[49m\u001b[38;5;124;43m\"\u001b[39;49m\u001b[38;5;124;43mv\u001b[39;49m\u001b[38;5;124;43m\"\u001b[39;49m\u001b[43m,\u001b[49m\u001b[43m \u001b[49m\u001b[43mu\u001b[49m\u001b[43m,\u001b[49m\u001b[43m \u001b[49m\u001b[43mdist_map\u001b[49m\u001b[43m)\u001b[49m,\n\u001b[1;32m   2107\u001b[0m                                      _prop(\u001b[38;5;124m\"\u001b[39m\u001b[38;5;124me\u001b[39m\u001b[38;5;124m\"\u001b[39m, u, weights),\n\u001b[1;32m   2108\u001b[0m                                      _prop(\u001b[38;5;124m\"\u001b[39m\u001b[38;5;124mv\u001b[39m\u001b[38;5;124m\"\u001b[39m, u, pmap),\n\u001b[1;32m   2109\u001b[0m                                      \u001b[38;5;28mfloat\u001b[39m(max_dist),\n\u001b[1;32m   2110\u001b[0m                                      negative_weights, reached, dag)\n\u001b[1;32m   2111\u001b[0m \u001b[38;5;28;01melse\u001b[39;00m:\n\u001b[1;32m   2112\u001b[0m     libgraph_tool_topology\u001b[38;5;241m.\u001b[39mget_all_dists(u\u001b[38;5;241m.\u001b[39m_Graph__graph,\n\u001b[1;32m   2113\u001b[0m                                          _prop(\u001b[38;5;124m\"\u001b[39m\u001b[38;5;124mv\u001b[39m\u001b[38;5;124m\"\u001b[39m, u, dist_map),\n\u001b[1;32m   2114\u001b[0m                                          _prop(\u001b[38;5;124m\"\u001b[39m\u001b[38;5;124me\u001b[39m\u001b[38;5;124m\"\u001b[39m, u, weights), dense)\n",
      "File \u001b[0;32m~/miniconda3/envs/venv/lib/python3.12/site-packages/graph_tool/__init__.py:184\u001b[0m, in \u001b[0;36m_prop\u001b[0;34m(t, g, prop)\u001b[0m\n\u001b[1;32m    182\u001b[0m \u001b[38;5;28;01mif\u001b[39;00m u \u001b[38;5;129;01mis\u001b[39;00m \u001b[38;5;28;01mNone\u001b[39;00m:\n\u001b[1;32m    183\u001b[0m     \u001b[38;5;28;01mraise\u001b[39;00m \u001b[38;5;167;01mValueError\u001b[39;00m(\u001b[38;5;124m\"\u001b[39m\u001b[38;5;124mReceived orphaned property map\u001b[39m\u001b[38;5;124m\"\u001b[39m)\n\u001b[0;32m--> 184\u001b[0m \u001b[38;5;28;01mif\u001b[39;00m \u001b[43mg\u001b[49m\u001b[38;5;241;43m.\u001b[39;49m\u001b[43mbase\u001b[49m \u001b[38;5;129;01mis\u001b[39;00m \u001b[38;5;129;01mnot\u001b[39;00m u\u001b[38;5;241m.\u001b[39mbase:\n\u001b[1;32m    185\u001b[0m     \u001b[38;5;28;01mraise\u001b[39;00m \u001b[38;5;167;01mValueError\u001b[39;00m(\u001b[38;5;124m\"\u001b[39m\u001b[38;5;124mReceived property map for graph \u001b[39m\u001b[38;5;132;01m%s\u001b[39;00m\u001b[38;5;124m (base: \u001b[39m\u001b[38;5;132;01m%s\u001b[39;00m\u001b[38;5;124m), expected: \u001b[39m\u001b[38;5;132;01m%s\u001b[39;00m\u001b[38;5;124m (base: \u001b[39m\u001b[38;5;132;01m%s\u001b[39;00m\u001b[38;5;124m)\u001b[39m\u001b[38;5;124m\"\u001b[39m \u001b[38;5;241m%\u001b[39m\n\u001b[1;32m    186\u001b[0m                      (\u001b[38;5;28mstr\u001b[39m(g), \u001b[38;5;28mstr\u001b[39m(g\u001b[38;5;241m.\u001b[39mbase), \u001b[38;5;28mstr\u001b[39m(u), \u001b[38;5;28mstr\u001b[39m(u\u001b[38;5;241m.\u001b[39mbase)))\n\u001b[1;32m    187\u001b[0m \u001b[38;5;28;01mreturn\u001b[39;00m pmap\u001b[38;5;241m.\u001b[39m_get_any()\n",
      "File \u001b[0;32m~/miniconda3/envs/venv/lib/python3.12/site-packages/graph_tool/__init__.py:3634\u001b[0m, in \u001b[0;36mGraph.__get_base\u001b[0;34m(self)\u001b[0m\n\u001b[1;32m   3631\u001b[0m         sio \u001b[38;5;241m=\u001b[39m io\u001b[38;5;241m.\u001b[39mBytesIO(blob)\n\u001b[1;32m   3632\u001b[0m         \u001b[38;5;28mself\u001b[39m\u001b[38;5;241m.\u001b[39mload(sio, \u001b[38;5;124m\"\u001b[39m\u001b[38;5;124mgt\u001b[39m\u001b[38;5;124m\"\u001b[39m)\n\u001b[0;32m-> 3634\u001b[0m \u001b[38;5;28;01mdef\u001b[39;00m \u001b[38;5;21m__get_base\u001b[39m(\u001b[38;5;28mself\u001b[39m):\n\u001b[1;32m   3635\u001b[0m     \u001b[38;5;28;01mreturn\u001b[39;00m \u001b[38;5;28mself\u001b[39m\n\u001b[1;32m   3636\u001b[0m base \u001b[38;5;241m=\u001b[39m \u001b[38;5;28mproperty\u001b[39m(__get_base, doc\u001b[38;5;241m=\u001b[39m\u001b[38;5;124m\"\u001b[39m\u001b[38;5;124mBase graph (self).\u001b[39m\u001b[38;5;124m\"\u001b[39m)\n",
      "\u001b[0;31mKeyboardInterrupt\u001b[0m: "
     ]
    }
   ],
   "source": [
    "#weighted t added\n",
    "assert(model.mu == 0.25)\n",
    "max_iter = 40000\n",
    "for index, eps_abs in enumerate(epsilons):\n",
    "    print('eps_abs =', eps_abs)\n",
    "    solver_kwargs = {'eps_abs': eps_abs,\n",
    "                     'max_iter': max_iter, 'stop_crit': 'dual_gap',\n",
    "                     'verbose' : True, 'verbose_step': 4000, 'save_history' : True}\n",
    "    tic = time.time()\n",
    "    result = model.find_equilibrium(solver_name = 'ugd', composite = True, solver_kwargs = solver_kwargs)\n",
    "    toc = time.time()\n",
    "    print('Elapsed time: {:.0f} sec'.format(toc - tic))\n",
    "    print('Time ratio =', np.max(result['times'] / graph_data['graph_table']['free_flow_time']))\n",
    "    print('Flow excess =', np.max(result['flows'] / graph_data['graph_table']['capacity']) - 1, end = '\\n\\n')\n",
    "    \n",
    "    result['eps_abs'] = eps_abs\n",
    "    result['elapsed_time'] = toc - tic\n",
    "    with open(beckmann_save + 'anaheim_result_' + 'ugd' + '_eps_abs_' + str(index) + '_beckmann.pickle', 'wb') as f:\n",
    "        pickle.dump(result, f)"
   ]
  },
  {
   "cell_type": "code",
   "execution_count": null,
   "metadata": {},
   "outputs": [],
   "source": [
    "#index += 7\n",
    "#epsilons = np.logspace(4, 3, 5)[:-1]\n",
    "#epsilons"
   ]
  },
  {
   "cell_type": "markdown",
   "metadata": {},
   "source": [
    "## Weighted Dual Averages"
   ]
  },
  {
   "cell_type": "markdown",
   "metadata": {},
   "source": [
    "### Composite optimization"
   ]
  },
  {
   "cell_type": "code",
   "execution_count": null,
   "metadata": {
    "scrolled": true
   },
   "outputs": [],
   "source": [
    "assert(model.mu == 0.25)\n",
    "max_iter = 40000\n",
    "solver_kwargs = {'max_iter' : max_iter, 'stop_crit': 'max_iter',\n",
    "                 'verbose': True, 'verbose_step': 4000, 'save_history': True}\n",
    "tic = time.time()\n",
    "result = model.find_equilibrium(solver_name = 'wda', composite = True, solver_kwargs = solver_kwargs)\n",
    "toc = time.time()\n",
    "print('Elapsed time: {:.0f} sec'.format(toc - tic))\n",
    "print('Time ratio =', np.max(result['times'] / graph_data['graph_table']['free_flow_time']))\n",
    "print('Flow excess =', np.max(result['flows'] / graph_data['graph_table']['capacity']) - 1, end = '\\n\\n')\n",
    "\n",
    "result['elapsed_time'] = toc - tic\n",
    "with open(beckmann_save + 'anaheim_result_' + 'wda' + '_max_iter_' + str(max_iter) + '_beckmann.pickle', 'wb') as f:\n",
    "    pickle.dump(result, f)"
   ]
  },
  {
   "cell_type": "markdown",
   "metadata": {},
   "source": [
    "### Non-composite optimization"
   ]
  },
  {
   "cell_type": "code",
   "execution_count": null,
   "metadata": {
    "scrolled": true
   },
   "outputs": [],
   "source": [
    "assert(model.mu == 0.25)\n",
    "max_iter = 40000\n",
    "solver_kwargs = {'max_iter' : max_iter, 'stop_crit': 'max_iter',\n",
    "                 'verbose': True, 'verbose_step': 4000, 'save_history' : True}\n",
    "tic = time.time()\n",
    "result = model.find_equilibrium(solver_name = 'wda', composite = False, solver_kwargs = solver_kwargs)\n",
    "toc = time.time()\n",
    "print('Elapsed time: {:.0f} sec'.format(toc - tic))\n",
    "print('Time ratio =', np.max(result['times'] / graph_data['graph_table']['free_flow_time']))\n",
    "print('Flow excess =', np.max(result['flows'] / graph_data['graph_table']['capacity']) - 1, end = '\\n\\n')\n",
    "\n",
    "result['elapsed_time'] = toc - tic\n",
    "with open(beckmann_save + 'anaheim_result_' + 'wda_noncomposite' + '_max_iter_' + str(max_iter) + '_beckmann.pickle', 'wb') as f:\n",
    "    pickle.dump(result, f)"
   ]
  },
  {
   "cell_type": "markdown",
   "metadata": {},
   "source": [
    "## Plots"
   ]
  },
  {
   "cell_type": "code",
   "execution_count": null,
   "metadata": {},
   "outputs": [],
   "source": [
    "%matplotlib inline\n",
    "from matplotlib import pyplot as plt\n",
    "import pickle\n",
    "import numpy as np\n",
    "beckmann_save = 'beckmann_results/'"
   ]
  },
  {
   "cell_type": "code",
   "execution_count": null,
   "metadata": {},
   "outputs": [],
   "source": [
    "results = {}\n",
    "\n",
    "for method in ['ustm', 'ugd']:\n",
    "    results[method] = {}\n",
    "    results[method]['iters'] = []\n",
    "    results[method]['inner_iters'] = []\n",
    "    results[method]['epsilon'] = []\n",
    "    results[method]['dual_gap_init'] = []\n",
    "    i = 0\n",
    "    while True:\n",
    "        try:\n",
    "            with open(beckmann_save + 'anaheim_result_' + method + '_eps_abs_'\n",
    "                      + str(i) + '_beckmann.pickle', 'rb') as f:\n",
    "                result = pickle.load(f)\n",
    "                results[method]['epsilon'].append(result['eps_abs'])\n",
    "                results[method]['iters'].append(result['iter_num'])\n",
    "                results[method]['inner_iters'].append(result['history'].get('inner_iters')[-1])\n",
    "                results[method]['dual_gap_init'].append(result['history'].get('dual_gap')[0])\n",
    "        except FileNotFoundError:\n",
    "            break\n",
    "        i += 1\n"
   ]
  },
  {
   "cell_type": "code",
   "execution_count": null,
   "metadata": {},
   "outputs": [],
   "source": [
    "for method in ['wda', 'wda_noncomposite']:\n",
    "    results[method] = {}\n",
    "    with open(beckmann_save + 'anaheim_result_' + method + '_max_iter_40000_beckmann.pickle', 'rb') as f:\n",
    "        result = pickle.load(f)\n",
    "        results[method]['epsilon'] = result['history'].get('dual_gap')\n",
    "        results[method]['iters'] = result['history'].get('iter')\n",
    "        results[method]['dual_gap_init'] = result['history'].get('dual_gap')[0]"
   ]
  },
  {
   "cell_type": "code",
   "execution_count": null,
   "metadata": {},
   "outputs": [],
   "source": [
    "method = 'fwm'\n",
    "with open(beckmann_save + 'anaheim_result_fwm_t_weighted_max_iter_10000_beckmann.pickle', 'rb') as f:\n",
    "    results[method] = {}\n",
    "    result = pickle.load(f)\n",
    "    results[method]['epsilon'] = result['history'].get('dual_gap')\n",
    "    results[method]['iters'] = result['history'].get('iter')\n",
    "    results[method]['dual_gap_init'] = result['history'].get('dual_gap')[0]"
   ]
  },
  {
   "cell_type": "code",
   "execution_count": null,
   "metadata": {},
   "outputs": [],
   "source": [
    "plt.figure(figsize=(7,4))\n",
    "plt.title('Convergence for Beckmann model', fontsize=20)\n",
    "eps_upper = 1e4\n",
    "for method, data in results.items():\n",
    "    x = 1. / np.array(data['epsilon'])\n",
    "    y = np.array(data['iters'])\n",
    "    ind = np.nonzero(1 / x <= eps_upper)\n",
    "    plt.plot(x[ind], y[ind], label = method)\n",
    "plt.legend(title = 'method')\n",
    "plt.xscale('log')\n",
    "plt.yscale('log')\n",
    "plt.xlabel(r'1 / $\\varepsilon$')\n",
    "plt.ylabel('iterations')\n",
    "plt.show()"
   ]
  },
  {
   "cell_type": "code",
   "execution_count": null,
   "metadata": {},
   "outputs": [],
   "source": [
    "#inner iterations vs absolute accuracy = eps_abs\n",
    "plt.figure(figsize=(7,4))\n",
    "#plt.title('Convergence for Beckmann model', fontsize=20)\n",
    "eps_upper = 1e4\n",
    "for method, data in results.items():\n",
    "    x = 1. / np.array(data['epsilon'])\n",
    "    if 'inner_iters' in data:\n",
    "        y = np.array(data['inner_iters'])\n",
    "    else:\n",
    "        y = np.array(data['iters'])\n",
    "    ind = np.nonzero(1 / x <= eps_upper)\n",
    "    plt.plot(x[ind], y[ind], label = method)\n",
    "plt.legend(prop = {'size' : 11})\n",
    "plt.xscale('log')\n",
    "plt.yscale('log')\n",
    "plt.xlabel(r'1 / $\\varepsilon$', fontsize = 14)\n",
    "plt.ylabel('inner iterations', fontsize = 14)\n",
    "#plt.savefig('beckmann_convergence.jpg', dpi = 300)\n",
    "plt.show()"
   ]
  },
  {
   "cell_type": "code",
   "execution_count": null,
   "metadata": {},
   "outputs": [],
   "source": [
    "#inner iterations vs relative accuracy = eps_abs / dual_gap_init\n",
    "plt.figure(figsize=(7,4))\n",
    "#plt.title('Convergence for Beckmann model', fontsize=20)\n",
    "eps_upper = 0.5\n",
    "\n",
    "method_names = {'ustm' : 'UMST', 'ugd' : 'UGM', 'wda' : 'WDA',\n",
    "                'wda_noncomposite' : 'non-composite WDA', 'fwm' : 'FWM'}\n",
    "for method, data in results.items():\n",
    "    x = 1. / (np.array(data['epsilon']) / np.array(data['dual_gap_init']))\n",
    "    if 'inner_iters' in data:\n",
    "        y = np.array(data['inner_iters'])\n",
    "    else:\n",
    "        y = np.array(data['iters'])\n",
    "    ind = np.nonzero(1 / x <= eps_upper)\n",
    "    plt.plot(x[ind], y[ind], label = method_names[method])\n",
    "plt.legend(prop = {'size' : 11})\n",
    "plt.xscale('log')\n",
    "plt.yscale('log')\n",
    "plt.xlabel(r'1 / $\\tilde\\varepsilon$', fontsize = 14)\n",
    "plt.ylabel('inner iterations', fontsize = 14)\n",
    "#plt.savefig('beckmann_convergence_rel_eps.jpg', dpi = 300)\n",
    "plt.show()"
   ]
  }
 ],
 "metadata": {
  "hide_input": false,
  "kernelspec": {
   "display_name": "Python 3",
   "language": "python",
   "name": "python3"
  },
  "language_info": {
   "codemirror_mode": {
    "name": "ipython",
    "version": 3
   },
   "file_extension": ".py",
   "mimetype": "text/x-python",
   "name": "python",
   "nbconvert_exporter": "python",
   "pygments_lexer": "ipython3",
   "version": "3.11.7"
  },
  "toc": {
   "base_numbering": 1,
   "nav_menu": {},
   "number_sections": true,
   "sideBar": true,
   "skip_h1_title": false,
   "title_cell": "Table of Contents",
   "title_sidebar": "Contents",
   "toc_cell": false,
   "toc_position": {},
   "toc_section_display": true,
   "toc_window_display": false
  }
 },
 "nbformat": 4,
 "nbformat_minor": 2
}
