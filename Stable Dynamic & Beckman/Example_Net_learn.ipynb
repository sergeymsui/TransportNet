{
 "cells": [
  {
   "cell_type": "markdown",
   "metadata": {},
   "source": [
    "# Пример: Модель Стабильной Динамики и модель Бекмана"
   ]
  },
  {
   "cell_type": "code",
   "execution_count": 36,
   "metadata": {},
   "outputs": [],
   "source": [
    "import pandas as pd\n",
    "import numpy as np\n",
    "import data_handler as dh\n",
    "import model as md\n",
    "import time\n",
    "import matplotlib.pyplot as plt\n",
    "from matplotlib import rc\n",
    "import pickle"
   ]
  },
  {
   "cell_type": "code",
   "execution_count": 37,
   "metadata": {},
   "outputs": [
    {
     "data": {
      "text/plain": [
       "'0.59.1'"
      ]
     },
     "execution_count": 37,
     "metadata": {},
     "output_type": "execute_result"
    }
   ],
   "source": [
    "import numba\n",
    "numba.__version__"
   ]
  },
  {
   "cell_type": "code",
   "execution_count": 38,
   "metadata": {},
   "outputs": [],
   "source": [
    "sd_save = beckmann_save = './'\n",
    "cities_data = 'cities_data/'\n",
    "net_name = cities_data + 'Example_net_learn.tntp'\n",
    "trips_name = cities_data + 'Example_trips_learn.tntp'"
   ]
  },
  {
   "cell_type": "markdown",
   "metadata": {},
   "source": [
    "![title](github_example_pic.png)"
   ]
  },
  {
   "cell_type": "markdown",
   "metadata": {},
   "source": [
    "- You can find the example's description at the following link:\n",
    "\n",
    "https://doi.org/10.3390/math9111217\n",
    "\n",
    "- There were more cases discussed in the following paper:\n",
    "\n",
    "Nesterov, Y., de Palma, A. Stationary Dynamic Solutions in Congested Transportation Networks: Summary and Perspectives. Networks and Spatial Economics 3, 371–395 (2003). https://doi.org/10.1023/A:1025350419398"
   ]
  },
  {
   "cell_type": "markdown",
   "metadata": {},
   "source": [
    "# Модель Бекмана"
   ]
  },
  {
   "cell_type": "code",
   "execution_count": 39,
   "metadata": {},
   "outputs": [
    {
     "data": {
      "text/html": [
       "<div>\n",
       "<style scoped>\n",
       "    .dataframe tbody tr th:only-of-type {\n",
       "        vertical-align: middle;\n",
       "    }\n",
       "\n",
       "    .dataframe tbody tr th {\n",
       "        vertical-align: top;\n",
       "    }\n",
       "\n",
       "    .dataframe thead th {\n",
       "        text-align: right;\n",
       "    }\n",
       "</style>\n",
       "<table border=\"1\" class=\"dataframe\">\n",
       "  <thead>\n",
       "    <tr style=\"text-align: right;\">\n",
       "      <th></th>\n",
       "      <th>init_node</th>\n",
       "      <th>init_node_thru</th>\n",
       "      <th>term_node</th>\n",
       "      <th>term_node_thru</th>\n",
       "      <th>capacity</th>\n",
       "      <th>free_flow_time</th>\n",
       "    </tr>\n",
       "  </thead>\n",
       "  <tbody>\n",
       "    <tr>\n",
       "      <th>0</th>\n",
       "      <td>1</td>\n",
       "      <td>True</td>\n",
       "      <td>3</td>\n",
       "      <td>True</td>\n",
       "      <td>2000.0</td>\n",
       "      <td>1.0</td>\n",
       "    </tr>\n",
       "    <tr>\n",
       "      <th>1</th>\n",
       "      <td>1</td>\n",
       "      <td>True</td>\n",
       "      <td>3</td>\n",
       "      <td>True</td>\n",
       "      <td>2000.0</td>\n",
       "      <td>0.5</td>\n",
       "    </tr>\n",
       "    <tr>\n",
       "      <th>2</th>\n",
       "      <td>2</td>\n",
       "      <td>True</td>\n",
       "      <td>1</td>\n",
       "      <td>True</td>\n",
       "      <td>2000.0</td>\n",
       "      <td>0.5</td>\n",
       "    </tr>\n",
       "    <tr>\n",
       "      <th>3</th>\n",
       "      <td>2</td>\n",
       "      <td>True</td>\n",
       "      <td>1</td>\n",
       "      <td>True</td>\n",
       "      <td>2000.0</td>\n",
       "      <td>1.0</td>\n",
       "    </tr>\n",
       "    <tr>\n",
       "      <th>4</th>\n",
       "      <td>3</td>\n",
       "      <td>True</td>\n",
       "      <td>2</td>\n",
       "      <td>True</td>\n",
       "      <td>2000.0</td>\n",
       "      <td>1.0</td>\n",
       "    </tr>\n",
       "  </tbody>\n",
       "</table>\n",
       "</div>"
      ],
      "text/plain": [
       "   init_node  init_node_thru  term_node  term_node_thru  capacity  \\\n",
       "0          1            True          3            True    2000.0   \n",
       "1          1            True          3            True    2000.0   \n",
       "2          2            True          1            True    2000.0   \n",
       "3          2            True          1            True    2000.0   \n",
       "4          3            True          2            True    2000.0   \n",
       "\n",
       "   free_flow_time  \n",
       "0             1.0  \n",
       "1             0.5  \n",
       "2             0.5  \n",
       "3             1.0  \n",
       "4             1.0  "
      ]
     },
     "execution_count": 39,
     "metadata": {},
     "output_type": "execute_result"
    }
   ],
   "source": [
    "handler = dh.DataHandler()\n",
    "graph_data = handler.GetGraphData(net_name, columns = ['init_node', 'term_node', 'capacity', 'free_flow_time'])\n",
    "graph_correspondences, total_od_flow = handler.GetGraphCorrespondences(trips_name)\n",
    "\n",
    "model = md.Model(graph_data, graph_correspondences, \n",
    "                    total_od_flow, mu = 0.25, rho = 0.15)\n",
    "\n",
    "graph_data['graph_table'].head()"
   ]
  },
  {
   "cell_type": "code",
   "execution_count": 40,
   "metadata": {},
   "outputs": [
    {
     "data": {
      "text/plain": [
       "{1: {'targets': [1, 2], 'corrs': [0.0, 2000.0]},\n",
       " 2: {'targets': [2, 1], 'corrs': [0.0, 3000.0]}}"
      ]
     },
     "execution_count": 40,
     "metadata": {},
     "output_type": "execute_result"
    }
   ],
   "source": [
    "graph_correspondences"
   ]
  },
  {
   "cell_type": "markdown",
   "metadata": {},
   "source": [
    "## Метод Франка-Вульфа"
   ]
  },
  {
   "cell_type": "code",
   "execution_count": 41,
   "metadata": {},
   "outputs": [
    {
     "name": "stdout",
     "output_type": "stream",
     "text": [
      "Frank-Wolfe without stopping criteria\n",
      "Oracles created...\n",
      "Frank-Wolfe method...\n",
      "Primal_init = 3852.63\n",
      "Dual_init = -3500\n",
      "Duality_gap_init = 352.627\n",
      "\n",
      "Iterations number: 200\n",
      "Primal_func_value = 3852.63\n",
      "Dual_func_value = -3852.63\n",
      "Duality_gap = 0\n",
      "Duality_gap / Duality_gap_init = 0\n",
      "\n",
      "Iterations number: 400\n",
      "Primal_func_value = 3852.63\n",
      "Dual_func_value = -3852.63\n",
      "Duality_gap = 3.63798e-12\n",
      "Duality_gap / Duality_gap_init = 1.03168e-14\n",
      "\n",
      "Iterations number: 600\n",
      "Primal_func_value = 3852.63\n",
      "Dual_func_value = -3852.63\n",
      "Duality_gap = 3.63798e-12\n",
      "Duality_gap / Duality_gap_init = 1.03168e-14\n",
      "\n",
      "Iterations number: 800\n",
      "Primal_func_value = 3852.63\n",
      "Dual_func_value = -3852.63\n",
      "Duality_gap = -1.81899e-12\n",
      "Duality_gap / Duality_gap_init = -5.15839e-15\n",
      "\n",
      "Iterations number: 1000\n",
      "Primal_func_value = 3852.63\n",
      "Dual_func_value = -3852.63\n",
      "Duality_gap = -1.36424e-12\n",
      "Duality_gap / Duality_gap_init = -3.86879e-15\n",
      "\n",
      "Result: success\n",
      "Total iters: 1000\n",
      "Primal_func_value = 3852.63\n",
      "Dual_func_value = -3852.63\n",
      "Duality_gap = -1.36424e-12\n",
      "Duality_gap / Duality_gap_init = -3.86879e-15\n",
      "Oracle elapsed time: 1 sec\n",
      "Elapsed time: 1 sec\n",
      "Time ratio = 1.7593749999999995\n",
      "Flow excess = 0.4999999999999998\n",
      "\n"
     ]
    }
   ],
   "source": [
    "assert(model.mu == 0.25)\n",
    "max_iter = 1000\n",
    "\n",
    "print('Frank-Wolfe without stopping criteria')\n",
    "solver_kwargs = {'max_iter' : max_iter, 'stop_crit': 'max_iter',\n",
    "                 'verbose' : True, 'verbose_step': 200, 'save_history' : True}\n",
    "tic = time.time()\n",
    "result = model.find_equilibrium(solver_name = 'fwm', solver_kwargs = solver_kwargs)\n",
    "toc = time.time()\n",
    "print('Elapsed time: {:.0f} sec'.format(toc - tic))\n",
    "print('Time ratio =', np.max(result['times'] / graph_data['graph_table']['free_flow_time']))\n",
    "print('Flow excess =', np.max(result['flows'] / graph_data['graph_table']['capacity']) - 1, end = '\\n\\n')"
   ]
  },
  {
   "cell_type": "code",
   "execution_count": 42,
   "metadata": {},
   "outputs": [
    {
     "name": "stdout",
     "output_type": "stream",
     "text": [
      "times: [1.         0.575      0.8796875  1.         1.         0.73703704]\n",
      "flows: [  -0. 2000. 3000.   -0.   -0. 2000.]\n"
     ]
    }
   ],
   "source": [
    "print(\"times:\", result['times'])\n",
    "print(\"flows:\", result['flows'])"
   ]
  },
  {
   "cell_type": "markdown",
   "metadata": {},
   "source": [
    "# Модель Стабильной Динамики\n",
    "\n",
    "parameter $\\mu = 0$"
   ]
  },
  {
   "cell_type": "code",
   "execution_count": 43,
   "metadata": {},
   "outputs": [
    {
     "data": {
      "text/html": [
       "<div>\n",
       "<style scoped>\n",
       "    .dataframe tbody tr th:only-of-type {\n",
       "        vertical-align: middle;\n",
       "    }\n",
       "\n",
       "    .dataframe tbody tr th {\n",
       "        vertical-align: top;\n",
       "    }\n",
       "\n",
       "    .dataframe thead th {\n",
       "        text-align: right;\n",
       "    }\n",
       "</style>\n",
       "<table border=\"1\" class=\"dataframe\">\n",
       "  <thead>\n",
       "    <tr style=\"text-align: right;\">\n",
       "      <th></th>\n",
       "      <th>init_node</th>\n",
       "      <th>init_node_thru</th>\n",
       "      <th>term_node</th>\n",
       "      <th>term_node_thru</th>\n",
       "      <th>capacity</th>\n",
       "      <th>free_flow_time</th>\n",
       "    </tr>\n",
       "  </thead>\n",
       "  <tbody>\n",
       "    <tr>\n",
       "      <th>0</th>\n",
       "      <td>1</td>\n",
       "      <td>True</td>\n",
       "      <td>3</td>\n",
       "      <td>True</td>\n",
       "      <td>2000.0</td>\n",
       "      <td>1.0</td>\n",
       "    </tr>\n",
       "    <tr>\n",
       "      <th>1</th>\n",
       "      <td>1</td>\n",
       "      <td>True</td>\n",
       "      <td>3</td>\n",
       "      <td>True</td>\n",
       "      <td>2000.0</td>\n",
       "      <td>0.5</td>\n",
       "    </tr>\n",
       "    <tr>\n",
       "      <th>2</th>\n",
       "      <td>2</td>\n",
       "      <td>True</td>\n",
       "      <td>1</td>\n",
       "      <td>True</td>\n",
       "      <td>2000.0</td>\n",
       "      <td>0.5</td>\n",
       "    </tr>\n",
       "    <tr>\n",
       "      <th>3</th>\n",
       "      <td>2</td>\n",
       "      <td>True</td>\n",
       "      <td>1</td>\n",
       "      <td>True</td>\n",
       "      <td>2000.0</td>\n",
       "      <td>1.0</td>\n",
       "    </tr>\n",
       "    <tr>\n",
       "      <th>4</th>\n",
       "      <td>3</td>\n",
       "      <td>True</td>\n",
       "      <td>2</td>\n",
       "      <td>True</td>\n",
       "      <td>2000.0</td>\n",
       "      <td>1.0</td>\n",
       "    </tr>\n",
       "  </tbody>\n",
       "</table>\n",
       "</div>"
      ],
      "text/plain": [
       "   init_node  init_node_thru  term_node  term_node_thru  capacity  \\\n",
       "0          1            True          3            True    2000.0   \n",
       "1          1            True          3            True    2000.0   \n",
       "2          2            True          1            True    2000.0   \n",
       "3          2            True          1            True    2000.0   \n",
       "4          3            True          2            True    2000.0   \n",
       "\n",
       "   free_flow_time  \n",
       "0             1.0  \n",
       "1             0.5  \n",
       "2             0.5  \n",
       "3             1.0  \n",
       "4             1.0  "
      ]
     },
     "execution_count": 43,
     "metadata": {},
     "output_type": "execute_result"
    }
   ],
   "source": [
    "handler = dh.DataHandler()\n",
    "graph_correspondences, total_od_flow = handler.GetGraphCorrespondences(trips_name)\n",
    "graph_data = handler.GetGraphData(net_name, columns = ['init_node', 'term_node', 'capacity', 'free_flow_time'])\n",
    "init_capacities = np.copy(graph_data['graph_table']['capacity'])\n",
    "graph_data['graph_table'].head()"
   ]
  },
  {
   "cell_type": "code",
   "execution_count": 44,
   "metadata": {},
   "outputs": [
    {
     "data": {
      "text/plain": [
       "{1: {'targets': [1, 2], 'corrs': [0.0, 2000.0]},\n",
       " 2: {'targets': [2, 1], 'corrs': [0.0, 3000.0]}}"
      ]
     },
     "execution_count": 44,
     "metadata": {},
     "output_type": "execute_result"
    }
   ],
   "source": [
    "graph_correspondences"
   ]
  },
  {
   "cell_type": "markdown",
   "metadata": {},
   "source": [
    "## Step 1: Base flows\n",
    "Прежде всего, нам необходимо найти допустимое множество потоков на транспортном графе. Это необходимо для определения разрыва двойственности."
   ]
  },
  {
   "cell_type": "code",
   "execution_count": 45,
   "metadata": {},
   "outputs": [],
   "source": [
    "import numba"
   ]
  },
  {
   "cell_type": "code",
   "execution_count": 46,
   "metadata": {},
   "outputs": [
    {
     "data": {
      "text/html": [
       "<div>\n",
       "<style scoped>\n",
       "    .dataframe tbody tr th:only-of-type {\n",
       "        vertical-align: middle;\n",
       "    }\n",
       "\n",
       "    .dataframe tbody tr th {\n",
       "        vertical-align: top;\n",
       "    }\n",
       "\n",
       "    .dataframe thead th {\n",
       "        text-align: right;\n",
       "    }\n",
       "</style>\n",
       "<table border=\"1\" class=\"dataframe\">\n",
       "  <thead>\n",
       "    <tr style=\"text-align: right;\">\n",
       "      <th></th>\n",
       "      <th>init_node</th>\n",
       "      <th>init_node_thru</th>\n",
       "      <th>term_node</th>\n",
       "      <th>term_node_thru</th>\n",
       "      <th>capacity</th>\n",
       "      <th>free_flow_time</th>\n",
       "    </tr>\n",
       "  </thead>\n",
       "  <tbody>\n",
       "    <tr>\n",
       "      <th>0</th>\n",
       "      <td>1</td>\n",
       "      <td>True</td>\n",
       "      <td>3</td>\n",
       "      <td>True</td>\n",
       "      <td>1500.0</td>\n",
       "      <td>1.0</td>\n",
       "    </tr>\n",
       "    <tr>\n",
       "      <th>1</th>\n",
       "      <td>1</td>\n",
       "      <td>True</td>\n",
       "      <td>3</td>\n",
       "      <td>True</td>\n",
       "      <td>1500.0</td>\n",
       "      <td>0.5</td>\n",
       "    </tr>\n",
       "    <tr>\n",
       "      <th>2</th>\n",
       "      <td>2</td>\n",
       "      <td>True</td>\n",
       "      <td>1</td>\n",
       "      <td>True</td>\n",
       "      <td>1500.0</td>\n",
       "      <td>0.5</td>\n",
       "    </tr>\n",
       "    <tr>\n",
       "      <th>3</th>\n",
       "      <td>2</td>\n",
       "      <td>True</td>\n",
       "      <td>1</td>\n",
       "      <td>True</td>\n",
       "      <td>1500.0</td>\n",
       "      <td>1.0</td>\n",
       "    </tr>\n",
       "    <tr>\n",
       "      <th>4</th>\n",
       "      <td>3</td>\n",
       "      <td>True</td>\n",
       "      <td>2</td>\n",
       "      <td>True</td>\n",
       "      <td>1500.0</td>\n",
       "      <td>1.0</td>\n",
       "    </tr>\n",
       "  </tbody>\n",
       "</table>\n",
       "</div>"
      ],
      "text/plain": [
       "   init_node  init_node_thru  term_node  term_node_thru  capacity  \\\n",
       "0          1            True          3            True    1500.0   \n",
       "1          1            True          3            True    1500.0   \n",
       "2          2            True          1            True    1500.0   \n",
       "3          2            True          1            True    1500.0   \n",
       "4          3            True          2            True    1500.0   \n",
       "\n",
       "   free_flow_time  \n",
       "0             1.0  \n",
       "1             0.5  \n",
       "2             0.5  \n",
       "3             1.0  \n",
       "4             1.0  "
      ]
     },
     "execution_count": 46,
     "metadata": {},
     "output_type": "execute_result"
    }
   ],
   "source": [
    "# start from 0.5,  0.75, 0.875 (according to our flows reconstruction method) \n",
    "alpha = 0.75\n",
    "graph_data['graph_table']['capacity'] = init_capacities * alpha\n",
    "model = md.Model(graph_data, graph_correspondences,\n",
    "                 total_od_flow, mu = 0)\n",
    "\n",
    "graph_data['graph_table'].head()"
   ]
  },
  {
   "cell_type": "code",
   "execution_count": 47,
   "metadata": {
    "scrolled": true
   },
   "outputs": [
    {
     "name": "stdout",
     "output_type": "stream",
     "text": [
      "Composite optimization...\n",
      "Oracles created...\n",
      "Universal similar triangles method...\n",
      "Primal_init = 3500\n",
      "Dual_init = -3500\n",
      "Duality_gap_init = 1137.5\n",
      "\n",
      "Iterations number: 500\n",
      "Inner iterations number: 1011\n",
      "Primal_func_value = 4898.5\n",
      "Dual_func_value = -4937.46\n",
      "Duality_gap = -37.0739\n",
      "Duality_gap / Duality_gap_init = -0.0325925\n",
      "\n",
      "Iterations number: 1000\n",
      "Inner iterations number: 2012\n",
      "Primal_func_value = 4917.91\n",
      "Dual_func_value = -4937.44\n",
      "Duality_gap = -19.3581\n",
      "Duality_gap / Duality_gap_init = -0.0170181\n",
      "\n",
      "Result: success\n",
      "Total iters: 1000\n",
      "Primal_func_value = 4917.91\n",
      "Dual_func_value = -4937.44\n",
      "Duality_gap = -19.3581\n",
      "Duality_gap / Duality_gap_init = -0.0170181\n",
      "Oracle elapsed time: 1 sec\n",
      "Elapsed time: 1 sec\n",
      "Time ratio = 2.000013396133154\n",
      "Flow excess = 0.011576154988026222\n",
      "\n"
     ]
    }
   ],
   "source": [
    "assert(model.mu == 0)\n",
    "max_iter = 1000\n",
    "\n",
    "solver_kwargs = {'eps_abs': 100, 'max_iter': max_iter, 'stop_crit': 'max_iter',\n",
    "                 'verbose': True, 'verbose_step': 500, 'save_history': True}\n",
    "tic = time.time()\n",
    "result = model.find_equilibrium(solver_name = 'ustm', composite = True,\n",
    "                                solver_kwargs = solver_kwargs,\n",
    "                                base_flows = alpha * graph_data['graph_table']['capacity'])\n",
    "                                #base_flows here doesn't define anything now\n",
    "toc = time.time()\n",
    "print('Elapsed time: {:.0f} sec'.format(toc - tic))\n",
    "print('Time ratio =', np.max(result['times'] / graph_data['graph_table']['free_flow_time']))\n",
    "print('Flow excess =', np.max(result['flows'] / graph_data['graph_table']['capacity']) - 1, end = '\\n\\n')\n",
    "\n",
    "result['elapsed_time'] = toc - tic\n",
    "\n",
    "base_flows = result['flows']"
   ]
  },
  {
   "cell_type": "markdown",
   "metadata": {},
   "source": [
    "__Базовые потоки, найденные численно, должны быть неотрицательными и соответствовать ограничениям пропускной способности.__\n",
    "\n",
    "__Во время этих итераций метрика разрыва двойственности не имеет значения.__ На следующем этапе (в модели Стабильной Динамики) разрыв двойственности, основанный на найденных базовых потоках, будет неотрицательным и будет уменьшаться по мере приближения алгоритма к решению задачи."
   ]
  },
  {
   "cell_type": "code",
   "execution_count": 48,
   "metadata": {},
   "outputs": [
    {
     "name": "stdout",
     "output_type": "stream",
     "text": [
      "base flows: [ 486.9120629  1513.0879371  1513.07734953 1486.92265047  861.97682564\n",
      " 1138.02317436]\n",
      "base times: [1.         0.99994994 0.99998138 1.         1.         1.0000067 ]\n"
     ]
    }
   ],
   "source": [
    "print(\"base flows:\", result['flows'])\n",
    "print(\"base times:\", result['times'])"
   ]
  },
  {
   "cell_type": "code",
   "execution_count": 49,
   "metadata": {},
   "outputs": [],
   "source": [
    "#with open(sd_save + 'anaheim_' + 'ustm' + '_base_flows_max_iter_' + str(max_iter) + '_SD.pickle', 'wb') as f:\n",
    "#    pickle.dump(base_flows, f)"
   ]
  },
  {
   "cell_type": "markdown",
   "metadata": {},
   "source": [
    "## Step 2: SD Model solution"
   ]
  },
  {
   "cell_type": "code",
   "execution_count": 50,
   "metadata": {},
   "outputs": [
    {
     "data": {
      "text/html": [
       "<div>\n",
       "<style scoped>\n",
       "    .dataframe tbody tr th:only-of-type {\n",
       "        vertical-align: middle;\n",
       "    }\n",
       "\n",
       "    .dataframe tbody tr th {\n",
       "        vertical-align: top;\n",
       "    }\n",
       "\n",
       "    .dataframe thead th {\n",
       "        text-align: right;\n",
       "    }\n",
       "</style>\n",
       "<table border=\"1\" class=\"dataframe\">\n",
       "  <thead>\n",
       "    <tr style=\"text-align: right;\">\n",
       "      <th></th>\n",
       "      <th>init_node</th>\n",
       "      <th>init_node_thru</th>\n",
       "      <th>term_node</th>\n",
       "      <th>term_node_thru</th>\n",
       "      <th>capacity</th>\n",
       "      <th>free_flow_time</th>\n",
       "    </tr>\n",
       "  </thead>\n",
       "  <tbody>\n",
       "    <tr>\n",
       "      <th>0</th>\n",
       "      <td>1</td>\n",
       "      <td>True</td>\n",
       "      <td>3</td>\n",
       "      <td>True</td>\n",
       "      <td>2000.0</td>\n",
       "      <td>1.0</td>\n",
       "    </tr>\n",
       "    <tr>\n",
       "      <th>1</th>\n",
       "      <td>1</td>\n",
       "      <td>True</td>\n",
       "      <td>3</td>\n",
       "      <td>True</td>\n",
       "      <td>2000.0</td>\n",
       "      <td>0.5</td>\n",
       "    </tr>\n",
       "    <tr>\n",
       "      <th>2</th>\n",
       "      <td>2</td>\n",
       "      <td>True</td>\n",
       "      <td>1</td>\n",
       "      <td>True</td>\n",
       "      <td>2000.0</td>\n",
       "      <td>0.5</td>\n",
       "    </tr>\n",
       "    <tr>\n",
       "      <th>3</th>\n",
       "      <td>2</td>\n",
       "      <td>True</td>\n",
       "      <td>1</td>\n",
       "      <td>True</td>\n",
       "      <td>2000.0</td>\n",
       "      <td>1.0</td>\n",
       "    </tr>\n",
       "    <tr>\n",
       "      <th>4</th>\n",
       "      <td>3</td>\n",
       "      <td>True</td>\n",
       "      <td>2</td>\n",
       "      <td>True</td>\n",
       "      <td>2000.0</td>\n",
       "      <td>1.0</td>\n",
       "    </tr>\n",
       "  </tbody>\n",
       "</table>\n",
       "</div>"
      ],
      "text/plain": [
       "   init_node  init_node_thru  term_node  term_node_thru  capacity  \\\n",
       "0          1            True          3            True    2000.0   \n",
       "1          1            True          3            True    2000.0   \n",
       "2          2            True          1            True    2000.0   \n",
       "3          2            True          1            True    2000.0   \n",
       "4          3            True          2            True    2000.0   \n",
       "\n",
       "   free_flow_time  \n",
       "0             1.0  \n",
       "1             0.5  \n",
       "2             0.5  \n",
       "3             1.0  \n",
       "4             1.0  "
      ]
     },
     "execution_count": 50,
     "metadata": {},
     "output_type": "execute_result"
    }
   ],
   "source": [
    "graph_data['graph_table']['capacity'] = init_capacities\n",
    "model = md.Model(graph_data, graph_correspondences,\n",
    "                 total_od_flow, mu = 0)\n",
    "\n",
    "graph_data['graph_table'].head()"
   ]
  },
  {
   "cell_type": "markdown",
   "metadata": {},
   "source": [
    "## Метод Подобных Треугольников"
   ]
  },
  {
   "cell_type": "code",
   "execution_count": 51,
   "metadata": {
    "scrolled": true
   },
   "outputs": [
    {
     "name": "stdout",
     "output_type": "stream",
     "text": [
      "Composite optimization...\n",
      "Oracles created...\n",
      "Universal similar triangles method...\n",
      "Primal_init = 3500\n",
      "Dual_init = -3500\n",
      "Duality_gap_init = 956.341\n",
      "\n",
      "Iterations number: 400\n",
      "Inner iterations number: 811\n",
      "Primal_func_value = 4217.82\n",
      "Dual_func_value = -4249.94\n",
      "Duality_gap = 23.2547\n",
      "Duality_gap / Duality_gap_init = 0.0243164\n",
      "\n",
      "Iterations number: 800\n",
      "Inner iterations number: 1611\n",
      "Primal_func_value = 4232.76\n",
      "Dual_func_value = -4249.98\n",
      "Duality_gap = 15.967\n",
      "Duality_gap / Duality_gap_init = 0.0166959\n",
      "\n",
      "Result: success\n",
      "Total iters: 1000\n",
      "Primal_func_value = 4236.71\n",
      "Dual_func_value = -4249.93\n",
      "Duality_gap = 9.79134\n",
      "Duality_gap / Duality_gap_init = 0.0102383\n",
      "Oracle elapsed time: 1 sec\n",
      "Elapsed time: 1 sec\n",
      "Time ratio = 2.00002249809661\n",
      "Flow excess = 0.00843569531706101\n",
      "\n"
     ]
    }
   ],
   "source": [
    "assert(model.mu == 0)\n",
    "max_iter = 1000\n",
    "\n",
    "solver_kwargs = {'eps_abs': 100,\n",
    "                 'max_iter': max_iter, 'stop_crit': 'max_iter',\n",
    "                 'verbose': True, 'verbose_step': 400, 'save_history': True}\n",
    "tic = time.time()\n",
    "result = model.find_equilibrium(solver_name = 'ustm', composite = True,\n",
    "                                solver_kwargs = solver_kwargs, base_flows = base_flows)\n",
    "toc = time.time()\n",
    "print('Elapsed time: {:.0f} sec'.format(toc - tic))\n",
    "print('Time ratio =', np.max(result['times'] / graph_data['graph_table']['free_flow_time']))\n",
    "print('Flow excess =', np.max(result['flows'] / graph_data['graph_table']['capacity']) - 1, end = '\\n\\n')\n",
    "# NOTE: duality gap should be nonnegative here!"
   ]
  },
  {
   "cell_type": "code",
   "execution_count": 52,
   "metadata": {},
   "outputs": [
    {
     "name": "stdout",
     "output_type": "stream",
     "text": [
      "flows: [  -0.         2000.         2013.92522557  986.07477443  487.34645702\n",
      " 1512.65354298]\n",
      "times:  [1.         0.5        1.00001125 1.         1.         0.99989975]\n"
     ]
    }
   ],
   "source": [
    "print(\"flows:\", result['flows'])\n",
    "print(\"times: \", result['times'])"
   ]
  }
 ],
 "metadata": {
  "hide_input": false,
  "kernelspec": {
   "display_name": "Python 3",
   "language": "python",
   "name": "python3"
  },
  "language_info": {
   "codemirror_mode": {
    "name": "ipython",
    "version": 3
   },
   "file_extension": ".py",
   "mimetype": "text/x-python",
   "name": "python",
   "nbconvert_exporter": "python",
   "pygments_lexer": "ipython3",
   "version": "3.12.3"
  },
  "toc": {
   "base_numbering": 1,
   "nav_menu": {},
   "number_sections": true,
   "sideBar": true,
   "skip_h1_title": false,
   "title_cell": "Table of Contents",
   "title_sidebar": "Contents",
   "toc_cell": false,
   "toc_position": {},
   "toc_section_display": true,
   "toc_window_display": false
  }
 },
 "nbformat": 4,
 "nbformat_minor": 2
}
